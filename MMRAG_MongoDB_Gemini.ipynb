{
  "cells": [
    {
      "cell_type": "code",
      "execution_count": null,
      "metadata": {
        "id": "ijGzTHJJUCPY"
      },
      "outputs": [],
      "source": [
        "# Copyright 2024 Google LLC\n",
        "#\n",
        "# Licensed under the Apache License, Version 2.0 (the \"License\");\n",
        "# you may not use this file except in compliance with the License.\n",
        "# You may obtain a copy of the License at\n",
        "#\n",
        "#     https://www.apache.org/licenses/LICENSE-2.0\n",
        "#\n",
        "# Unless required by applicable law or agreed to in writing, software\n",
        "# distributed under the License is distributed on an \"AS IS\" BASIS,\n",
        "# WITHOUT WARRANTIES OR CONDITIONS OF ANY KIND, either express or implied.\n",
        "# See the License for the specific language governing permissions and\n",
        "# limitations under the License."
      ]
    },
    {
      "cell_type": "markdown",
      "metadata": {
        "id": "NDsTUvKjwHBW"
      },
      "source": [
        "# Multimodal RAG with Gemini, MongoDB Altas Vector Search, and LangChain"
      ]
    },
    {
      "cell_type": "markdown",
      "metadata": {
        "id": "i08XIjjGz82G"
      },
      "source": [
        "| | |\n",
        "|-|-|\n",
        "|Author(s) | [Nikhil Rana](https://github.com/ranasaurus9) |"
      ]
    },
    {
      "cell_type": "markdown",
      "metadata": {
        "id": "RQT500QqVPIb"
      },
      "source": [
        "### Objectives\n",
        "\n",
        "This notebook provides a guide to building a document search engine using multimodal retrieval augmented generation (RAG), step by step:\n",
        "\n",
        "1. Extract and store metadata of documents containing both text and images, and generate embeddings the documents\n",
        "2. Search the metadata with text queries to find similar text or images\n",
        "3. Search the metadata with image queries to find similar images\n",
        "4. Using a text query as input, search for contexual answers using both text and images\n",
        "\n",
        "### References\n",
        "\n",
        "https://cloud.google.com/vertex-ai/generative-ai/docs/multimodal/overview\n",
        "\n",
        "https://www.mongodb.com/products/platform/atlas-vector-search\n",
        "\n",
        "https://blog.langchain.dev/semi-structured-multi-modal-rag/\n",
        "\n",
        "https://unstructured-io.github.io/unstructured/introduction.html\n",
        "\n"
      ]
    },
    {
      "cell_type": "markdown",
      "metadata": {
        "id": "DXJpXzKrh2rJ"
      },
      "source": [
        "## Getting Started\n"
      ]
    },
    {
      "cell_type": "markdown",
      "metadata": {
        "id": "N5afkyDMSBW5"
      },
      "source": [
        "### Install Vertex AI SDK for Python and other dependencies\n"
      ]
    },
    {
      "cell_type": "code",
      "execution_count": null,
      "metadata": {
        "colab": {
          "base_uri": "https://localhost:8080/"
        },
        "id": "LHp0eNfPRW9r",
        "outputId": "49c801e9-4362-4503-ed1f-ff1282aa8b91"
      },
      "outputs": [
        {
          "name": "stdout",
          "output_type": "stream",
          "text": [
            "Reading package lists... Done\n",
            "Building dependency tree... Done\n",
            "Reading state information... Done\n",
            "The following NEW packages will be installed:\n",
            "  poppler-utils\n",
            "0 upgraded, 1 newly installed, 0 to remove and 45 not upgraded.\n",
            "Need to get 186 kB of archives.\n",
            "After this operation, 696 kB of additional disk space will be used.\n",
            "Get:1 http://archive.ubuntu.com/ubuntu jammy-updates/main amd64 poppler-utils amd64 22.02.0-2ubuntu0.4 [186 kB]\n",
            "Fetched 186 kB in 1s (310 kB/s)\n",
            "debconf: unable to initialize frontend: Dialog\n",
            "debconf: (No usable dialog-like program is installed, so the dialog based frontend cannot be used. at /usr/share/perl5/Debconf/FrontEnd/Dialog.pm line 78, <> line 1.)\n",
            "debconf: falling back to frontend: Readline\n",
            "debconf: unable to initialize frontend: Readline\n",
            "debconf: (This frontend requires a controlling tty.)\n",
            "debconf: falling back to frontend: Teletype\n",
            "dpkg-preconfigure: unable to re-open stdin: \n",
            "Selecting previously unselected package poppler-utils.\n",
            "(Reading database ... 121918 files and directories currently installed.)\n",
            "Preparing to unpack .../poppler-utils_22.02.0-2ubuntu0.4_amd64.deb ...\n",
            "Unpacking poppler-utils (22.02.0-2ubuntu0.4) ...\n",
            "Setting up poppler-utils (22.02.0-2ubuntu0.4) ...\n",
            "Processing triggers for man-db (2.10.2-1) ...\n",
            "Reading package lists... Done\n",
            "Building dependency tree... Done\n",
            "Reading state information... Done\n",
            "The following additional packages will be installed:\n",
            "  tesseract-ocr-eng tesseract-ocr-osd\n",
            "The following NEW packages will be installed:\n",
            "  tesseract-ocr tesseract-ocr-eng tesseract-ocr-osd\n",
            "0 upgraded, 3 newly installed, 0 to remove and 45 not upgraded.\n",
            "Need to get 4,816 kB of archives.\n",
            "After this operation, 15.6 MB of additional disk space will be used.\n",
            "Get:1 http://archive.ubuntu.com/ubuntu jammy/universe amd64 tesseract-ocr-eng all 1:4.00~git30-7274cfa-1.1 [1,591 kB]\n",
            "Get:2 http://archive.ubuntu.com/ubuntu jammy/universe amd64 tesseract-ocr-osd all 1:4.00~git30-7274cfa-1.1 [2,990 kB]\n",
            "Get:3 http://archive.ubuntu.com/ubuntu jammy/universe amd64 tesseract-ocr amd64 4.1.1-2.1build1 [236 kB]\n",
            "Fetched 4,816 kB in 1s (4,302 kB/s)\n",
            "Selecting previously unselected package tesseract-ocr-eng.\n",
            "(Reading database ... 121948 files and directories currently installed.)\n",
            "Preparing to unpack .../tesseract-ocr-eng_1%3a4.00~git30-7274cfa-1.1_all.deb ...\n",
            "Unpacking tesseract-ocr-eng (1:4.00~git30-7274cfa-1.1) ...\n",
            "Selecting previously unselected package tesseract-ocr-osd.\n",
            "Preparing to unpack .../tesseract-ocr-osd_1%3a4.00~git30-7274cfa-1.1_all.deb ...\n",
            "Unpacking tesseract-ocr-osd (1:4.00~git30-7274cfa-1.1) ...\n",
            "Selecting previously unselected package tesseract-ocr.\n",
            "Preparing to unpack .../tesseract-ocr_4.1.1-2.1build1_amd64.deb ...\n",
            "Unpacking tesseract-ocr (4.1.1-2.1build1) ...\n",
            "Setting up tesseract-ocr-eng (1:4.00~git30-7274cfa-1.1) ...\n",
            "Setting up tesseract-ocr-osd (1:4.00~git30-7274cfa-1.1) ...\n",
            "Setting up tesseract-ocr (4.1.1-2.1build1) ...\n",
            "Processing triggers for man-db (2.10.2-1) ...\n",
            "Reading package lists... Done\n",
            "Building dependency tree... Done\n",
            "Reading state information... Done\n",
            "The following additional packages will be installed:\n",
            "  libarchive-dev libleptonica-dev\n",
            "The following NEW packages will be installed:\n",
            "  libarchive-dev libleptonica-dev libtesseract-dev\n",
            "0 upgraded, 3 newly installed, 0 to remove and 45 not upgraded.\n",
            "Need to get 3,743 kB of archives.\n",
            "After this operation, 16.0 MB of additional disk space will be used.\n",
            "Get:1 http://archive.ubuntu.com/ubuntu jammy/main amd64 libarchive-dev amd64 3.6.0-1ubuntu1 [581 kB]\n",
            "Get:2 http://archive.ubuntu.com/ubuntu jammy/universe amd64 libleptonica-dev amd64 1.82.0-3build1 [1,562 kB]\n",
            "Get:3 http://archive.ubuntu.com/ubuntu jammy/universe amd64 libtesseract-dev amd64 4.1.1-2.1build1 [1,600 kB]\n",
            "Fetched 3,743 kB in 1s (3,359 kB/s)\n",
            "Selecting previously unselected package libarchive-dev:amd64.\n",
            "(Reading database ... 121995 files and directories currently installed.)\n",
            "Preparing to unpack .../libarchive-dev_3.6.0-1ubuntu1_amd64.deb ...\n",
            "Unpacking libarchive-dev:amd64 (3.6.0-1ubuntu1) ...\n",
            "Selecting previously unselected package libleptonica-dev.\n",
            "Preparing to unpack .../libleptonica-dev_1.82.0-3build1_amd64.deb ...\n",
            "Unpacking libleptonica-dev (1.82.0-3build1) ...\n",
            "Selecting previously unselected package libtesseract-dev:amd64.\n",
            "Preparing to unpack .../libtesseract-dev_4.1.1-2.1build1_amd64.deb ...\n",
            "Unpacking libtesseract-dev:amd64 (4.1.1-2.1build1) ...\n",
            "Setting up libleptonica-dev (1.82.0-3build1) ...\n",
            "Setting up libarchive-dev:amd64 (3.6.0-1ubuntu1) ...\n",
            "Setting up libtesseract-dev:amd64 (4.1.1-2.1build1) ...\n",
            "Processing triggers for man-db (2.10.2-1) ...\n"
          ]
        }
      ],
      "source": [
        "!sudo apt-get install -y poppler-utils\n",
        "!apt install tesseract-ocr\n",
        "!apt install libtesseract-dev"
      ]
    },
    {
      "cell_type": "code",
      "execution_count": null,
      "metadata": {
        "colab": {
          "base_uri": "https://localhost:8080/"
        },
        "id": "kc4WxYmLSBW5",
        "outputId": "b41fd3cd-dad8-4d81-cd9f-48cdbabf94ad",
        "tags": []
      },
      "outputs": [
        {
          "name": "stdout",
          "output_type": "stream",
          "text": [
            "\u001b[?25l     \u001b[90m━━━━━━━━━━━━━━━━━━━━━━━━━━━━━━━━━━━━━━━━\u001b[0m \u001b[32m0.0/307.9 kB\u001b[0m \u001b[31m?\u001b[0m eta \u001b[36m-:--:--\u001b[0m\r\u001b[2K     \u001b[91m━━━━━━━━━━━━━━━━━━━━━━━━━\u001b[0m\u001b[90m╺\u001b[0m\u001b[90m━━━━━━━━━━━━━━\u001b[0m \u001b[32m194.6/307.9 kB\u001b[0m \u001b[31m5.6 MB/s\u001b[0m eta \u001b[36m0:00:01\u001b[0m\r\u001b[2K     \u001b[90m━━━━━━━━━━━━━━━━━━━━━━━━━━━━━━━━━━━━━━━━\u001b[0m \u001b[32m307.9/307.9 kB\u001b[0m \u001b[31m6.1 MB/s\u001b[0m eta \u001b[36m0:00:00\u001b[0m\n",
            "\u001b[2K     \u001b[90m━━━━━━━━━━━━━━━━━━━━━━━━━━━━━━━━━━━━━━━━\u001b[0m \u001b[32m57.7/57.7 kB\u001b[0m \u001b[31m4.7 MB/s\u001b[0m eta \u001b[36m0:00:00\u001b[0m\n",
            "\u001b[2K     \u001b[90m━━━━━━━━━━━━━━━━━━━━━━━━━━━━━━━━━━━━━━━━\u001b[0m \u001b[32m199.5/199.5 kB\u001b[0m \u001b[31m20.6 MB/s\u001b[0m eta \u001b[36m0:00:00\u001b[0m\n",
            "\u001b[2K     \u001b[90m━━━━━━━━━━━━━━━━━━━━━━━━━━━━━━━━━━━━━━━━\u001b[0m \u001b[32m1.9/1.9 MB\u001b[0m \u001b[31m44.0 MB/s\u001b[0m eta \u001b[36m0:00:00\u001b[0m\n",
            "\u001b[2K     \u001b[90m━━━━━━━━━━━━━━━━━━━━━━━━━━━━━━━━━━━━━━━━\u001b[0m \u001b[32m290.4/290.4 kB\u001b[0m \u001b[31m26.0 MB/s\u001b[0m eta \u001b[36m0:00:00\u001b[0m\n",
            "\u001b[2K     \u001b[90m━━━━━━━━━━━━━━━━━━━━━━━━━━━━━━━━━━━━━━━━\u001b[0m \u001b[32m5.0/5.0 MB\u001b[0m \u001b[31m79.0 MB/s\u001b[0m eta \u001b[36m0:00:00\u001b[0m\n",
            "\u001b[2K     \u001b[90m━━━━━━━━━━━━━━━━━━━━━━━━━━━━━━━━━━━━━━━━\u001b[0m \u001b[32m4.5/4.5 MB\u001b[0m \u001b[31m81.9 MB/s\u001b[0m eta \u001b[36m0:00:00\u001b[0m\n",
            "\u001b[2K     \u001b[90m━━━━━━━━━━━━━━━━━━━━━━━━━━━━━━━━━━━━━━━━\u001b[0m \u001b[32m8.3/8.3 MB\u001b[0m \u001b[31m57.8 MB/s\u001b[0m eta \u001b[36m0:00:00\u001b[0m\n",
            "\u001b[2K     \u001b[90m━━━━━━━━━━━━━━━━━━━━━━━━━━━━━━━━━━━━━━━━\u001b[0m \u001b[32m62.2/62.2 MB\u001b[0m \u001b[31m9.7 MB/s\u001b[0m eta \u001b[36m0:00:00\u001b[0m\n",
            "\u001b[2K     \u001b[90m━━━━━━━━━━━━━━━━━━━━━━━━━━━━━━━━━━━━━━━━\u001b[0m \u001b[32m1.1/1.1 MB\u001b[0m \u001b[31m48.9 MB/s\u001b[0m eta \u001b[36m0:00:00\u001b[0m\n",
            "\u001b[2K     \u001b[90m━━━━━━━━━━━━━━━━━━━━━━━━━━━━━━━━━━━━━━━━\u001b[0m \u001b[32m670.0/670.0 kB\u001b[0m \u001b[31m36.6 MB/s\u001b[0m eta \u001b[36m0:00:00\u001b[0m\n",
            "\u001b[2K     \u001b[90m━━━━━━━━━━━━━━━━━━━━━━━━━━━━━━━━━━━━━━━━\u001b[0m \u001b[32m12.3/12.3 MB\u001b[0m \u001b[31m56.8 MB/s\u001b[0m eta \u001b[36m0:00:00\u001b[0m\n",
            "\u001b[2K     \u001b[90m━━━━━━━━━━━━━━━━━━━━━━━━━━━━━━━━━━━━━━━━\u001b[0m \u001b[32m121.2/121.2 kB\u001b[0m \u001b[31m11.9 MB/s\u001b[0m eta \u001b[36m0:00:00\u001b[0m\n",
            "\u001b[2K     \u001b[90m━━━━━━━━━━━━━━━━━━━━━━━━━━━━━━━━━━━━━━━━\u001b[0m \u001b[32m53.0/53.0 kB\u001b[0m \u001b[31m5.6 MB/s\u001b[0m eta \u001b[36m0:00:00\u001b[0m\n",
            "\u001b[2K     \u001b[90m━━━━━━━━━━━━━━━━━━━━━━━━━━━━━━━━━━━━━━━━\u001b[0m \u001b[32m125.6/125.6 kB\u001b[0m \u001b[31m12.5 MB/s\u001b[0m eta \u001b[36m0:00:00\u001b[0m\n",
            "\u001b[2K     \u001b[90m━━━━━━━━━━━━━━━━━━━━━━━━━━━━━━━━━━━━━━━━\u001b[0m \u001b[32m2.1/2.1 MB\u001b[0m \u001b[31m71.7 MB/s\u001b[0m eta \u001b[36m0:00:00\u001b[0m\n",
            "\u001b[2K     \u001b[90m━━━━━━━━━━━━━━━━━━━━━━━━━━━━━━━━━━━━━━━━\u001b[0m \u001b[32m433.8/433.8 kB\u001b[0m \u001b[31m36.6 MB/s\u001b[0m eta \u001b[36m0:00:00\u001b[0m\n",
            "\u001b[2K     \u001b[90m━━━━━━━━━━━━━━━━━━━━━━━━━━━━━━━━━━━━━━━━\u001b[0m \u001b[32m274.7/274.7 kB\u001b[0m \u001b[31m25.0 MB/s\u001b[0m eta \u001b[36m0:00:00\u001b[0m\n",
            "\u001b[2K     \u001b[90m━━━━━━━━━━━━━━━━━━━━━━━━━━━━━━━━━━━━━━━━\u001b[0m \u001b[32m981.5/981.5 kB\u001b[0m \u001b[31m52.3 MB/s\u001b[0m eta \u001b[36m0:00:00\u001b[0m\n",
            "\u001b[?25h  Preparing metadata (setup.py) ... \u001b[?25l\u001b[?25hdone\n",
            "\u001b[2K     \u001b[90m━━━━━━━━━━━━━━━━━━━━━━━━━━━━━━━━━━━━━━━━\u001b[0m \u001b[32m3.4/3.4 MB\u001b[0m \u001b[31m79.3 MB/s\u001b[0m eta \u001b[36m0:00:00\u001b[0m\n",
            "\u001b[2K     \u001b[90m━━━━━━━━━━━━━━━━━━━━━━━━━━━━━━━━━━━━━━━━\u001b[0m \u001b[32m2.4/2.4 MB\u001b[0m \u001b[31m39.4 MB/s\u001b[0m eta \u001b[36m0:00:00\u001b[0m\n",
            "\u001b[2K     \u001b[90m━━━━━━━━━━━━━━━━━━━━━━━━━━━━━━━━━━━━━━━━\u001b[0m \u001b[32m5.6/5.6 MB\u001b[0m \u001b[31m62.0 MB/s\u001b[0m eta \u001b[36m0:00:00\u001b[0m\n",
            "\u001b[2K     \u001b[90m━━━━━━━━━━━━━━━━━━━━━━━━━━━━━━━━━━━━━━━━\u001b[0m \u001b[32m471.6/471.6 kB\u001b[0m \u001b[31m37.5 MB/s\u001b[0m eta \u001b[36m0:00:00\u001b[0m\n",
            "\u001b[2K     \u001b[90m━━━━━━━━━━━━━━━━━━━━━━━━━━━━━━━━━━━━━━━━\u001b[0m \u001b[32m15.9/15.9 MB\u001b[0m \u001b[31m32.4 MB/s\u001b[0m eta \u001b[36m0:00:00\u001b[0m\n",
            "\u001b[2K     \u001b[90m━━━━━━━━━━━━━━━━━━━━━━━━━━━━━━━━━━━━━━━━\u001b[0m \u001b[32m459.6/459.6 kB\u001b[0m \u001b[31m3.0 MB/s\u001b[0m eta \u001b[36m0:00:00\u001b[0m\n",
            "\u001b[2K     \u001b[90m━━━━━━━━━━━━━━━━━━━━━━━━━━━━━━━━━━━━━━━━\u001b[0m \u001b[32m244.3/244.3 kB\u001b[0m \u001b[31m20.4 MB/s\u001b[0m eta \u001b[36m0:00:00\u001b[0m\n",
            "\u001b[2K     \u001b[90m━━━━━━━━━━━━━━━━━━━━━━━━━━━━━━━━━━━━━━━━\u001b[0m \u001b[32m7.5/7.5 MB\u001b[0m \u001b[31m49.7 MB/s\u001b[0m eta \u001b[36m0:00:00\u001b[0m\n",
            "\u001b[2K     \u001b[90m━━━━━━━━━━━━━━━━━━━━━━━━━━━━━━━━━━━━━━━━\u001b[0m \u001b[32m101.8/101.8 kB\u001b[0m \u001b[31m9.3 MB/s\u001b[0m eta \u001b[36m0:00:00\u001b[0m\n",
            "\u001b[2K     \u001b[90m━━━━━━━━━━━━━━━━━━━━━━━━━━━━━━━━━━━━━━━━\u001b[0m \u001b[32m59.5/59.5 kB\u001b[0m \u001b[31m5.0 MB/s\u001b[0m eta \u001b[36m0:00:00\u001b[0m\n",
            "\u001b[2K     \u001b[90m━━━━━━━━━━━━━━━━━━━━━━━━━━━━━━━━━━━━━━━━\u001b[0m \u001b[32m19.2/19.2 MB\u001b[0m \u001b[31m27.2 MB/s\u001b[0m eta \u001b[36m0:00:00\u001b[0m\n",
            "\u001b[2K     \u001b[90m━━━━━━━━━━━━━━━━━━━━━━━━━━━━━━━━━━━━━━━━\u001b[0m \u001b[32m6.8/6.8 MB\u001b[0m \u001b[31m92.4 MB/s\u001b[0m eta \u001b[36m0:00:00\u001b[0m\n",
            "\u001b[2K     \u001b[90m━━━━━━━━━━━━━━━━━━━━━━━━━━━━━━━━━━━━━━━━\u001b[0m \u001b[32m307.7/307.7 kB\u001b[0m \u001b[31m24.8 MB/s\u001b[0m eta \u001b[36m0:00:00\u001b[0m\n",
            "\u001b[2K     \u001b[90m━━━━━━━━━━━━━━━━━━━━━━━━━━━━━━━━━━━━━━━━\u001b[0m \u001b[32m92.0/92.0 kB\u001b[0m \u001b[31m8.6 MB/s\u001b[0m eta \u001b[36m0:00:00\u001b[0m\n",
            "\u001b[?25h  Preparing metadata (setup.py) ... \u001b[?25l\u001b[?25hdone\n",
            "\u001b[2K     \u001b[90m━━━━━━━━━━━━━━━━━━━━━━━━━━━━━━━━━━━━━━━━\u001b[0m \u001b[32m315.9/315.9 kB\u001b[0m \u001b[31m27.2 MB/s\u001b[0m eta \u001b[36m0:00:00\u001b[0m\n",
            "\u001b[2K     \u001b[90m━━━━━━━━━━━━━━━━━━━━━━━━━━━━━━━━━━━━━━━━\u001b[0m \u001b[32m75.6/75.6 kB\u001b[0m \u001b[31m7.1 MB/s\u001b[0m eta \u001b[36m0:00:00\u001b[0m\n",
            "\u001b[2K     \u001b[90m━━━━━━━━━━━━━━━━━━━━━━━━━━━━━━━━━━━━━━━━\u001b[0m \u001b[32m142.5/142.5 kB\u001b[0m \u001b[31m8.8 MB/s\u001b[0m eta \u001b[36m0:00:00\u001b[0m\n",
            "\u001b[2K     \u001b[90m━━━━━━━━━━━━━━━━━━━━━━━━━━━━━━━━━━━━━━━━\u001b[0m \u001b[32m8.7/8.7 MB\u001b[0m \u001b[31m67.6 MB/s\u001b[0m eta \u001b[36m0:00:00\u001b[0m\n",
            "\u001b[2K     \u001b[90m━━━━━━━━━━━━━━━━━━━━━━━━━━━━━━━━━━━━━━━━\u001b[0m \u001b[32m47.2/47.2 kB\u001b[0m \u001b[31m5.0 MB/s\u001b[0m eta \u001b[36m0:00:00\u001b[0m\n",
            "\u001b[2K     \u001b[90m━━━━━━━━━━━━━━━━━━━━━━━━━━━━━━━━━━━━━━━━\u001b[0m \u001b[32m60.8/60.8 kB\u001b[0m \u001b[31m5.8 MB/s\u001b[0m eta \u001b[36m0:00:00\u001b[0m\n",
            "\u001b[2K     \u001b[90m━━━━━━━━━━━━━━━━━━━━━━━━━━━━━━━━━━━━━━━━\u001b[0m \u001b[32m129.9/129.9 kB\u001b[0m \u001b[31m14.2 MB/s\u001b[0m eta \u001b[36m0:00:00\u001b[0m\n",
            "\u001b[2K     \u001b[90m━━━━━━━━━━━━━━━━━━━━━━━━━━━━━━━━━━━━━━━━\u001b[0m \u001b[32m123.5/123.5 kB\u001b[0m \u001b[31m13.7 MB/s\u001b[0m eta \u001b[36m0:00:00\u001b[0m\n",
            "\u001b[2K     \u001b[90m━━━━━━━━━━━━━━━━━━━━━━━━━━━━━━━━━━━━━━━━\u001b[0m \u001b[32m121.6/121.6 kB\u001b[0m \u001b[31m13.0 MB/s\u001b[0m eta \u001b[36m0:00:00\u001b[0m\n",
            "\u001b[2K     \u001b[90m━━━━━━━━━━━━━━━━━━━━━━━━━━━━━━━━━━━━━━━━\u001b[0m \u001b[32m77.9/77.9 kB\u001b[0m \u001b[31m7.5 MB/s\u001b[0m eta \u001b[36m0:00:00\u001b[0m\n",
            "\u001b[2K     \u001b[90m━━━━━━━━━━━━━━━━━━━━━━━━━━━━━━━━━━━━━━━━\u001b[0m \u001b[32m58.3/58.3 kB\u001b[0m \u001b[31m6.2 MB/s\u001b[0m eta \u001b[36m0:00:00\u001b[0m\n",
            "\u001b[2K     \u001b[90m━━━━━━━━━━━━━━━━━━━━━━━━━━━━━━━━━━━━━━━━\u001b[0m \u001b[32m973.7/973.7 kB\u001b[0m \u001b[31m52.4 MB/s\u001b[0m eta \u001b[36m0:00:00\u001b[0m\n",
            "\u001b[2K     \u001b[90m━━━━━━━━━━━━━━━━━━━━━━━━━━━━━━━━━━━━━━━━\u001b[0m \u001b[32m49.3/49.3 kB\u001b[0m \u001b[31m5.3 MB/s\u001b[0m eta \u001b[36m0:00:00\u001b[0m\n",
            "\u001b[2K     \u001b[90m━━━━━━━━━━━━━━━━━━━━━━━━━━━━━━━━━━━━━━━━\u001b[0m \u001b[32m159.9/159.9 kB\u001b[0m \u001b[31m12.6 MB/s\u001b[0m eta \u001b[36m0:00:00\u001b[0m\n",
            "\u001b[2K     \u001b[90m━━━━━━━━━━━━━━━━━━━━━━━━━━━━━━━━━━━━━━━━\u001b[0m \u001b[32m71.9/71.9 kB\u001b[0m \u001b[31m5.1 MB/s\u001b[0m eta \u001b[36m0:00:00\u001b[0m\n",
            "\u001b[2K     \u001b[90m━━━━━━━━━━━━━━━━━━━━━━━━━━━━━━━━━━━━━━━━\u001b[0m \u001b[32m53.6/53.6 kB\u001b[0m \u001b[31m4.4 MB/s\u001b[0m eta \u001b[36m0:00:00\u001b[0m\n",
            "\u001b[2K     \u001b[90m━━━━━━━━━━━━━━━━━━━━━━━━━━━━━━━━━━━━━━━━\u001b[0m \u001b[32m114.6/114.6 kB\u001b[0m \u001b[31m12.8 MB/s\u001b[0m eta \u001b[36m0:00:00\u001b[0m\n",
            "\u001b[2K     \u001b[90m━━━━━━━━━━━━━━━━━━━━━━━━━━━━━━━━━━━━━━━━\u001b[0m \u001b[32m80.8/80.8 kB\u001b[0m \u001b[31m8.7 MB/s\u001b[0m eta \u001b[36m0:00:00\u001b[0m\n",
            "\u001b[2K     \u001b[90m━━━━━━━━━━━━━━━━━━━━━━━━━━━━━━━━━━━━━━━━\u001b[0m \u001b[32m46.0/46.0 kB\u001b[0m \u001b[31m4.8 MB/s\u001b[0m eta \u001b[36m0:00:00\u001b[0m\n",
            "\u001b[2K     \u001b[90m━━━━━━━━━━━━━━━━━━━━━━━━━━━━━━━━━━━━━━━━\u001b[0m \u001b[32m341.4/341.4 kB\u001b[0m \u001b[31m29.6 MB/s\u001b[0m eta \u001b[36m0:00:00\u001b[0m\n",
            "\u001b[2K     \u001b[90m━━━━━━━━━━━━━━━━━━━━━━━━━━━━━━━━━━━━━━━━\u001b[0m \u001b[32m3.4/3.4 MB\u001b[0m \u001b[31m62.8 MB/s\u001b[0m eta \u001b[36m0:00:00\u001b[0m\n",
            "\u001b[2K     \u001b[90m━━━━━━━━━━━━━━━━━━━━━━━━━━━━━━━━━━━━━━━━\u001b[0m \u001b[32m1.3/1.3 MB\u001b[0m \u001b[31m51.7 MB/s\u001b[0m eta \u001b[36m0:00:00\u001b[0m\n",
            "\u001b[2K     \u001b[90m━━━━━━━━━━━━━━━━━━━━━━━━━━━━━━━━━━━━━━━━\u001b[0m \u001b[32m42.2/42.2 kB\u001b[0m \u001b[31m4.3 MB/s\u001b[0m eta \u001b[36m0:00:00\u001b[0m\n",
            "\u001b[?25h  Preparing metadata (setup.py) ... \u001b[?25l\u001b[?25hdone\n",
            "\u001b[2K     \u001b[90m━━━━━━━━━━━━━━━━━━━━━━━━━━━━━━━━━━━━━━━━\u001b[0m \u001b[32m56.4/56.4 kB\u001b[0m \u001b[31m695.3 kB/s\u001b[0m eta \u001b[36m0:00:00\u001b[0m\n",
            "\u001b[2K     \u001b[90m━━━━━━━━━━━━━━━━━━━━━━━━━━━━━━━━━━━━━━━━\u001b[0m \u001b[32m112.5/112.5 kB\u001b[0m \u001b[31m11.4 MB/s\u001b[0m eta \u001b[36m0:00:00\u001b[0m\n",
            "\u001b[2K     \u001b[90m━━━━━━━━━━━━━━━━━━━━━━━━━━━━━━━━━━━━━━━━\u001b[0m \u001b[32m86.8/86.8 kB\u001b[0m \u001b[31m10.1 MB/s\u001b[0m eta \u001b[36m0:00:00\u001b[0m\n",
            "\u001b[2K     \u001b[90m━━━━━━━━━━━━━━━━━━━━━━━━━━━━━━━━━━━━━━━━\u001b[0m \u001b[32m2.3/2.3 MB\u001b[0m \u001b[31m63.9 MB/s\u001b[0m eta \u001b[36m0:00:00\u001b[0m\n",
            "\u001b[2K     \u001b[90m━━━━━━━━━━━━━━━━━━━━━━━━━━━━━━━━━━━━━━━━\u001b[0m \u001b[32m79.5/79.5 kB\u001b[0m \u001b[31m8.0 MB/s\u001b[0m eta \u001b[36m0:00:00\u001b[0m\n",
            "\u001b[2K     \u001b[90m━━━━━━━━━━━━━━━━━━━━━━━━━━━━━━━━━━━━━━━━\u001b[0m \u001b[32m2.8/2.8 MB\u001b[0m \u001b[31m78.2 MB/s\u001b[0m eta \u001b[36m0:00:00\u001b[0m\n",
            "\u001b[2K     \u001b[90m━━━━━━━━━━━━━━━━━━━━━━━━━━━━━━━━━━━━━━━━\u001b[0m \u001b[32m117.0/117.0 kB\u001b[0m \u001b[31m13.0 MB/s\u001b[0m eta \u001b[36m0:00:00\u001b[0m\n",
            "\u001b[?25h  Preparing metadata (setup.py) ... \u001b[?25l\u001b[?25hdone\n",
            "  Building wheel for ffmpy (setup.py) ... \u001b[?25l\u001b[?25hdone\n",
            "  Building wheel for langdetect (setup.py) ... \u001b[?25l\u001b[?25hdone\n",
            "  Building wheel for iopath (setup.py) ... \u001b[?25l\u001b[?25hdone\n",
            "  Building wheel for antlr4-python3-runtime (setup.py) ... \u001b[?25l\u001b[?25hdone\n",
            "\u001b[31mERROR: pip's dependency resolver does not currently take into account all the packages that are installed. This behaviour is the source of the following dependency conflicts.\n",
            "imageio 2.31.6 requires pillow<10.1.0,>=8.3.2, but you have pillow 10.3.0 which is incompatible.\n",
            "spacy 3.7.4 requires typer<0.10.0,>=0.3.0, but you have typer 0.12.3 which is incompatible.\n",
            "weasel 0.3.4 requires typer<0.10.0,>=0.3.0, but you have typer 0.12.3 which is incompatible.\u001b[0m\u001b[31m\n",
            "\u001b[0m"
          ]
        }
      ],
      "source": [
        "%pip install -U -q google-cloud-aiplatform langchain-core langchain-google-vertexai langchain-text-splitters langchain-experimental \"unstructured[all-docs]\" pypdf pydantic lxml pillow matplotlib opencv-python tiktoken pymongo bs4 gradio requests argparse pdf2image pytesseract"
      ]
    },
    {
      "cell_type": "markdown",
      "metadata": {
        "id": "R5Xep4W9lq-Z"
      },
      "source": [
        "### Restart current runtime\n",
        "\n",
        "To use the newly installed packages in this Jupyter runtime, you must restart the runtime. You can do this by running the cell below, which will restart the current kernel."
      ]
    },
    {
      "cell_type": "code",
      "execution_count": null,
      "metadata": {
        "colab": {
          "base_uri": "https://localhost:8080/"
        },
        "id": "XRvKdaPDTznN",
        "outputId": "99baa10d-bbeb-4962-e3ec-661125719c4f",
        "tags": []
      },
      "outputs": [
        {
          "data": {
            "text/plain": [
              "{'status': 'ok', 'restart': True}"
            ]
          },
          "execution_count": 4,
          "metadata": {},
          "output_type": "execute_result"
        }
      ],
      "source": [
        "# Restart kernel after installs so that your environment can access the new packages\n",
        "import IPython\n",
        "\n",
        "app = IPython.Application.instance()\n",
        "app.kernel.do_shutdown(True)"
      ]
    },
    {
      "cell_type": "markdown",
      "metadata": {
        "id": "SbmM4z7FOBpM"
      },
      "source": [
        "<div class=\"alert alert-block alert-warning\">\n",
        "<b>⚠️ The kernel is going to restart. Please wait until it is finished before continuing to the next step. ⚠️</b>\n",
        "</div>\n",
        "\n"
      ]
    },
    {
      "cell_type": "markdown",
      "metadata": {
        "id": "FtsU9Bw9h2rL"
      },
      "source": [
        "### Authenticate your notebook environment\n"
      ]
    },
    {
      "cell_type": "code",
      "execution_count": null,
      "metadata": {
        "id": "GpYEyLsOh2rL",
        "tags": []
      },
      "outputs": [],
      "source": [
        "import sys\n",
        "\n",
        "# Additional authentication is required for Google Colab\n",
        "if \"google.colab\" in sys.modules:\n",
        "    # Authenticate user to Google Cloud\n",
        "    from google.colab import auth\n",
        "\n",
        "    auth.authenticate_user()"
      ]
    },
    {
      "cell_type": "markdown",
      "metadata": {
        "id": "O1vKZZoEh2rL"
      },
      "source": [
        "### Define Google Cloud project information"
      ]
    },
    {
      "cell_type": "code",
      "execution_count": null,
      "metadata": {
        "id": "gJqZ76rJh2rM",
        "tags": []
      },
      "outputs": [],
      "source": [
        "PROJECT_ID = \"\"  # @param {type:\"string\"}\n",
        "LOCATION = \"us-central1\"  # @param {type:\"string\"}"
      ]
    },
    {
      "cell_type": "markdown",
      "metadata": {
        "id": "BNVIRRd0z82J"
      },
      "source": [
        "### Initialize the Vertex AI SDK"
      ]
    },
    {
      "cell_type": "code",
      "execution_count": null,
      "metadata": {
        "id": "D48gUW5-h2rM",
        "tags": []
      },
      "outputs": [],
      "source": [
        "from google.cloud import aiplatform\n",
        "\n",
        "aiplatform.init(project=PROJECT_ID, location=LOCATION)"
      ]
    },
    {
      "cell_type": "markdown",
      "metadata": {
        "id": "BuQwwRiniVFG"
      },
      "source": [
        "### Import libraries\n"
      ]
    },
    {
      "cell_type": "code",
      "execution_count": null,
      "metadata": {
        "id": "rtMowvm-yQ97",
        "tags": []
      },
      "outputs": [],
      "source": [
        "import base64\n",
        "import os\n",
        "import uuid\n",
        "import re\n",
        "import io\n",
        "import re\n",
        "\n",
        "from PIL import Image\n",
        "\n",
        "from typing import List, Tuple\n",
        "\n",
        "from IPython.display import HTML, display, Image, Markdown\n",
        "\n",
        "from langchain.prompts import PromptTemplate\n",
        "from langchain.retrievers.multi_vector import MultiVectorRetriever\n",
        "from langchain.storage import InMemoryStore\n",
        "\n",
        "from pymongo import MongoClient\n",
        "\n",
        "from langchain.vectorstores import MongoDBAtlasVectorSearch\n",
        "\n",
        "from langchain_core.documents import Document\n",
        "from langchain_core.runnables import RunnableLambda, RunnablePassthrough\n",
        "from langchain_core.messages import AIMessage, HumanMessage\n",
        "from langchain_core.output_parsers import StrOutputParser\n",
        "\n",
        "from langchain_text_splitters import CharacterTextSplitter\n",
        "\n",
        "from langchain_google_vertexai import (\n",
        "    VertexAI,\n",
        "    ChatVertexAI,\n",
        "    VertexAIEmbeddings,\n",
        "    VectorSearchVectorStore,\n",
        ")\n",
        "\n",
        "from unstructured.partition.pdf import partition_pdf"
      ]
    },
    {
      "cell_type": "code",
      "execution_count": null,
      "metadata": {
        "id": "BU1Ck2LbMiN_"
      },
      "outputs": [],
      "source": [
        "import param"
      ]
    },
    {
      "cell_type": "markdown",
      "metadata": {
        "id": "2QP7wK2gz82K"
      },
      "source": [
        "## Data Loading"
      ]
    },
    {
      "cell_type": "markdown",
      "metadata": {
        "id": "g7bKCQMFT7JT"
      },
      "source": [
        "#### Get documents and images from GCS"
      ]
    },
    {
      "cell_type": "code",
      "execution_count": null,
      "metadata": {
        "colab": {
          "base_uri": "https://localhost:8080/"
        },
        "id": "KwbL89zcY39N",
        "outputId": "5d241ef6-10ed-4c2b-a716-d444f0fdde68",
        "tags": []
      },
      "outputs": [
        {
          "name": "stdout",
          "output_type": "stream",
          "text": [
            "Copying gs://github-repo/rag/intro_multimodal_rag/data/google-10k-sample-part1.pdf...\n",
            "/ [0 files][    0.0 B/393.2 KiB]                                                \r/ [1 files][393.2 KiB/393.2 KiB]                                                \r\n",
            "Operation completed over 1 objects/393.2 KiB.                                    \n",
            "Download completed\n"
          ]
        }
      ],
      "source": [
        "# Download documents and images used in this notebook\n",
        "!gsutil cp gs://github-repo/rag/intro_multimodal_rag/data/google-10k-sample-part1.pdf .\n",
        "print(\"Download completed\")"
      ]
    },
    {
      "cell_type": "markdown",
      "metadata": {
        "id": "Ps1G-cCfpibN"
      },
      "source": [
        "## Partition PDF tables, text, and images"
      ]
    },
    {
      "cell_type": "markdown",
      "metadata": {
        "id": "jqLsy3iZ5t-R"
      },
      "source": [
        "### The data\n",
        "\n",
        "The source data that you will use in this notebook is a modified version of [Google-10K](https://abc.xyz/assets/investor/static/pdf/20220202_alphabet_10K.pdf) which provides a comprehensive overview of the company's financial performance, business operations, management, and risk factors. As the original document is rather large, you will be using [a modified version with only 14 pages](https://storage.googleapis.com/github-repo/rag/multimodal_rag_langchain/google-10k-sample-14pages.pdf) instead. Although it's truncated, the sample document still contains text along with images such as tables, charts, and graphs."
      ]
    },
    {
      "cell_type": "code",
      "execution_count": null,
      "metadata": {
        "colab": {
          "base_uri": "https://localhost:8080/",
          "height": 304,
          "referenced_widgets": [
            "3a0a838590734e35bced29ebea2a34de",
            "b3731293c23f4a1297182899ea0140d9",
            "d8792ba271914778a84c8a5bf744457a",
            "fc48da084bc64790935e42c6bac1c730",
            "70448a0d8a2841628d53c95dd34e041e",
            "eb9c79a73cb74684b624aef59c8282ba",
            "450c415f456b40f8b3c1d3099e5d360c",
            "77a8f10496f24a0d93e49b74c41c2362",
            "5789c29f2cf045729d87bc06f837b774",
            "1f2814cedaa8498fae656f2844951352",
            "132367f90c0241b8894a08964104ee66",
            "db71954c02cf4515a32e6b7b7cda3c6a",
            "c58f654feba94236a21d46923fb21152",
            "5f362d11d5584452844926c7eab12712",
            "bdd83c7734ba42a2b90565454f14e82d",
            "c912a4e477144d34bfa2ff40acbeb0d7",
            "0c4541a31ac84b1185c21b6485cf6948",
            "0a6a9682a13c486e889f9b1ce8be82cd",
            "cfe6f9a953584db1b78ba7ecbd567646",
            "16c693dc219a46f9ab8a71f5e68fad9f",
            "ac926e7672684000b86524410197c31f",
            "5579d5df7c7648f9952b706d98525655",
            "c561180d5c8a4f9684582ce6eb0d100a",
            "f54cba4f8fad4f559bd15a0c1b3f1707",
            "af8bb46f65fc4d109fe371f7a6c6026a",
            "e4e304bc46e34d3188a0cf406a953451",
            "e42b22ba08a647678751c1652008804c",
            "7523a334eb78407b98a04b9046ada316",
            "b8082a5d5d6e4346935e3c9e7ee69dea",
            "1488fb0afb054857aed1ea6b1cb863ae",
            "4faae22f9ea54be38c7c9a9dfb3033cd",
            "8c49aa0df66a45a8ac5d42bd49ec6217",
            "6ca9b75f637244fda6f76b8708ae2e4a",
            "1193cef452054e4b977ba7716c64d612",
            "6a5a8bbb27cc4531823f5477bbeef99f",
            "0cc8845e0e204623bdda4bce929cf74a",
            "1880ae07b0a54432a950718063e272e7",
            "13266f45cd1d4d54ae822465146e7919",
            "191456bfacca4f22829b55e09058d3b7",
            "6ce53a5a28da490c885f284d6bf02484",
            "8a82d6c11fc84867b3b248cc8f8dbdf4",
            "51cfcca535f4417c9c9f47227920190a",
            "9cad8033e8b84ec98bc2c53a6810475f",
            "7b992eed24c140ab820ed05f0ff06fb4"
          ]
        },
        "id": "-Pk2wdlzlq8G",
        "outputId": "ec1bf6ca-8abd-4854-c05f-7943c45b167c"
      },
      "outputs": [
        {
          "name": "stderr",
          "output_type": "stream",
          "text": [
            "[nltk_data] Downloading package punkt to /root/nltk_data...\n",
            "[nltk_data]   Unzipping tokenizers/punkt.zip.\n",
            "[nltk_data] Downloading package averaged_perceptron_tagger to\n",
            "[nltk_data]     /root/nltk_data...\n",
            "[nltk_data]   Unzipping taggers/averaged_perceptron_tagger.zip.\n"
          ]
        },
        {
          "data": {
            "application/vnd.jupyter.widget-view+json": {
              "model_id": "3a0a838590734e35bced29ebea2a34de",
              "version_major": 2,
              "version_minor": 0
            },
            "text/plain": [
              "yolox_l0.05.onnx:   0%|          | 0.00/217M [00:00<?, ?B/s]"
            ]
          },
          "metadata": {},
          "output_type": "display_data"
        },
        {
          "data": {
            "application/vnd.jupyter.widget-view+json": {
              "model_id": "db71954c02cf4515a32e6b7b7cda3c6a",
              "version_major": 2,
              "version_minor": 0
            },
            "text/plain": [
              "config.json:   0%|          | 0.00/1.47k [00:00<?, ?B/s]"
            ]
          },
          "metadata": {},
          "output_type": "display_data"
        },
        {
          "data": {
            "application/vnd.jupyter.widget-view+json": {
              "model_id": "c561180d5c8a4f9684582ce6eb0d100a",
              "version_major": 2,
              "version_minor": 0
            },
            "text/plain": [
              "model.safetensors:   0%|          | 0.00/115M [00:00<?, ?B/s]"
            ]
          },
          "metadata": {},
          "output_type": "display_data"
        },
        {
          "data": {
            "application/vnd.jupyter.widget-view+json": {
              "model_id": "1193cef452054e4b977ba7716c64d612",
              "version_major": 2,
              "version_minor": 0
            },
            "text/plain": [
              "model.safetensors:   0%|          | 0.00/46.8M [00:00<?, ?B/s]"
            ]
          },
          "metadata": {},
          "output_type": "display_data"
        },
        {
          "name": "stderr",
          "output_type": "stream",
          "text": [
            "Some weights of the model checkpoint at microsoft/table-transformer-structure-recognition were not used when initializing TableTransformerForObjectDetection: ['model.backbone.conv_encoder.model.layer2.0.downsample.1.num_batches_tracked', 'model.backbone.conv_encoder.model.layer3.0.downsample.1.num_batches_tracked', 'model.backbone.conv_encoder.model.layer4.0.downsample.1.num_batches_tracked']\n",
            "- This IS expected if you are initializing TableTransformerForObjectDetection from the checkpoint of a model trained on another task or with another architecture (e.g. initializing a BertForSequenceClassification model from a BertForPreTraining model).\n",
            "- This IS NOT expected if you are initializing TableTransformerForObjectDetection from the checkpoint of a model that you expect to be exactly identical (initializing a BertForSequenceClassification model from a BertForSequenceClassification model).\n"
          ]
        }
      ],
      "source": [
        "from langchain_text_splitters import CharacterTextSplitter\n",
        "from unstructured.partition.pdf import partition_pdf\n",
        "\n",
        "\n",
        "# Extract elements from PDF\n",
        "def extract_pdf_elements(path, fname):\n",
        "    \"\"\"\n",
        "    Extract images, tables, and chunk text from a PDF file.\n",
        "    path: File path, which is used to dump images (.jpg)\n",
        "    fname: File name\n",
        "    \"\"\"\n",
        "    return partition_pdf(\n",
        "        filename=path + fname,\n",
        "        extract_images_in_pdf=True,\n",
        "        infer_table_structure=True,\n",
        "        chunking_strategy=\"by_title\",\n",
        "        max_characters=4000,\n",
        "        new_after_n_chars=3800,\n",
        "        combine_text_under_n_chars=2000,\n",
        "        image_output_dir_path=path,\n",
        "    )\n",
        "\n",
        "\n",
        "# Categorize elements by type\n",
        "def categorize_elements(raw_pdf_elements):\n",
        "    \"\"\"\n",
        "    Categorize extracted elements from a PDF into tables and texts.\n",
        "    raw_pdf_elements: List of unstructured.documents.elements\n",
        "    \"\"\"\n",
        "    tables = []\n",
        "    texts = []\n",
        "    for element in raw_pdf_elements:\n",
        "        if \"unstructured.documents.elements.Table\" in str(type(element)):\n",
        "            tables.append(str(element))\n",
        "        elif \"unstructured.documents.elements.CompositeElement\" in str(type(element)):\n",
        "            texts.append(str(element))\n",
        "    return texts, tables\n",
        "\n",
        "\n",
        "# File path\n",
        "fpath = \"/content/\"\n",
        "fname = \"google-10k-sample-part1.pdf\"\n",
        "\n",
        "# Get elements\n",
        "raw_pdf_elements = extract_pdf_elements(fpath, fname)\n",
        "\n",
        "# Get text, tables\n",
        "texts, tables = categorize_elements(raw_pdf_elements)\n",
        "\n",
        "# Optional: Enforce a specific token size for texts\n",
        "text_splitter = CharacterTextSplitter.from_tiktoken_encoder(\n",
        "    chunk_size=4000, chunk_overlap=0\n",
        ")\n",
        "joined_texts = \" \".join(texts)\n",
        "texts_4k_token = text_splitter.split_text(joined_texts)"
      ]
    },
    {
      "cell_type": "code",
      "execution_count": null,
      "metadata": {
        "colab": {
          "base_uri": "https://localhost:8080/"
        },
        "id": "64XBty8-nvxH",
        "outputId": "d957cd81-3227-4efd-b67f-c6301a0a6670"
      },
      "outputs": [
        {
          "data": {
            "text/plain": [
              "[<unstructured.documents.elements.CompositeElement at 0x7db93d3d7b50>,\n",
              " <unstructured.documents.elements.Table at 0x7db93d3d4640>,\n",
              " <unstructured.documents.elements.CompositeElement at 0x7db93d3d4370>,\n",
              " <unstructured.documents.elements.CompositeElement at 0x7db93d3d4700>,\n",
              " <unstructured.documents.elements.CompositeElement at 0x7db93d3d4520>]"
            ]
          },
          "execution_count": 11,
          "metadata": {},
          "output_type": "execute_result"
        }
      ],
      "source": [
        "raw_pdf_elements"
      ]
    },
    {
      "cell_type": "code",
      "execution_count": null,
      "metadata": {
        "id": "vh5Yg5e1z82K"
      },
      "outputs": [],
      "source": [
        "MODEL_NAME = \"gemini-1.0-pro-vision\"\n",
        "\n",
        "\n",
        "# Generate summaries of text elements\n",
        "def generate_text_summaries(\n",
        "    texts: List[str], tables: List[str], summarize_texts: bool = False\n",
        ") -> Tuple[List, List]:\n",
        "    \"\"\"\n",
        "    Summarize text elements\n",
        "    texts: List of str\n",
        "    tables: List of str\n",
        "    summarize_texts: Bool to summarize texts\n",
        "    \"\"\"\n",
        "\n",
        "    # Prompt\n",
        "    prompt_text = \"\"\"You are an assistant tasked with summarizing tables and text for retrieval. \\\n",
        "    These summaries will be embedded and used to retrieve the raw text or table elements. \\\n",
        "    Give a concise summary of the table or text that is well optimized for retrieval. Table or text: {element} \"\"\"\n",
        "    prompt = PromptTemplate.from_template(prompt_text)\n",
        "    empty_response = RunnableLambda(\n",
        "        lambda x: AIMessage(content=\"Error processing document\")\n",
        "    )\n",
        "    # Text summary chain\n",
        "    model = VertexAI(\n",
        "        temperature=0, model_name=MODEL_NAME, max_output_tokens=1024\n",
        "    ).with_fallbacks([empty_response])\n",
        "    summarize_chain = {\"element\": lambda x: x} | prompt | model | StrOutputParser()\n",
        "\n",
        "    # Initialize empty summaries\n",
        "    text_summaries = []\n",
        "    table_summaries = []\n",
        "\n",
        "    # Apply to text if texts are provided and summarization is requested\n",
        "    if texts:\n",
        "        if summarize_texts:\n",
        "            text_summaries = summarize_chain.batch(texts, {\"max_concurrency\": 1})\n",
        "        else:\n",
        "            text_summaries = texts\n",
        "\n",
        "    # Apply to tables if tables are provided\n",
        "    if tables:\n",
        "        table_summaries = summarize_chain.batch(tables, {\"max_concurrency\": 1})\n",
        "\n",
        "    return text_summaries, table_summaries\n",
        "\n",
        "\n",
        "# Get text, table summaries\n",
        "text_summaries, table_summaries = generate_text_summaries(\n",
        "    texts_4k_token, tables, summarize_texts=True\n",
        ")"
      ]
    },
    {
      "cell_type": "code",
      "execution_count": null,
      "metadata": {
        "colab": {
          "base_uri": "https://localhost:8080/"
        },
        "id": "sWyeZDwRz82K",
        "outputId": "d21cd500-854d-4a55-a0de-3a116743f74c"
      },
      "outputs": [
        {
          "name": "stderr",
          "output_type": "stream",
          "text": [
            "/usr/local/lib/python3.10/dist-packages/langchain_core/_api/deprecation.py:119: LangChainDeprecationWarning: The method `BaseChatModel.__call__` was deprecated in langchain-core 0.1.7 and will be removed in 0.3.0. Use invoke instead.\n",
            "  warn_deprecated(\n"
          ]
        }
      ],
      "source": [
        "imgpath = \"/content/figures/\"\n",
        "def encode_image(image_path):\n",
        "    \"\"\"Getting the base64 string\"\"\"\n",
        "    with open(image_path, \"rb\") as image_file:\n",
        "        return base64.b64encode(image_file.read()).decode(\"utf-8\")\n",
        "\n",
        "\n",
        "def image_summarize(img_base64, prompt):\n",
        "    \"\"\"Make image summary\"\"\"\n",
        "    model = ChatVertexAI(model_name=\"gemini-pro-vision\", max_output_tokens=1024)\n",
        "\n",
        "    msg = model(\n",
        "        [\n",
        "            HumanMessage(\n",
        "                content=[\n",
        "                    {\"type\": \"text\", \"text\": prompt},\n",
        "                    {\n",
        "                        \"type\": \"image_url\",\n",
        "                        \"image_url\": {\"url\": f\"data:image/png;base64,{img_base64}\"},\n",
        "                    },\n",
        "                ]\n",
        "            )\n",
        "        ]\n",
        "    )\n",
        "    return msg.content\n",
        "\n",
        "\n",
        "def generate_img_summaries(path):\n",
        "    \"\"\"\n",
        "    Generate summaries and base64 encoded strings for images\n",
        "    path: Path to list of .jpg files extracted by Unstructured\n",
        "    \"\"\"\n",
        "\n",
        "    # Store base64 encoded images\n",
        "    img_base64_list = []\n",
        "\n",
        "    # Store image summaries\n",
        "    image_summaries = []\n",
        "\n",
        "    # Prompt\n",
        "    prompt = \"\"\"You are an assistant tasked with summarizing images for retrieval. \\\n",
        "    These summaries will be embedded and used to retrieve the raw image. \\\n",
        "    Give a concise summary of the image that is well optimized for retrieval.\"\"\"\n",
        "\n",
        "    # Apply to images\n",
        "    for img_file in sorted(os.listdir(path)):\n",
        "        if img_file.endswith(\".jpg\"):\n",
        "            img_path = os.path.join(path, img_file)\n",
        "            base64_image = encode_image(img_path)\n",
        "            img_base64_list.append(base64_image)\n",
        "            image_summaries.append(image_summarize(base64_image, prompt))\n",
        "\n",
        "    return img_base64_list, image_summaries\n",
        "\n",
        "\n",
        "# Image summaries\n",
        "img_base64_list, image_summaries = generate_img_summaries(imgpath)\n"
      ]
    },
    {
      "cell_type": "code",
      "execution_count": null,
      "metadata": {
        "colab": {
          "base_uri": "https://localhost:8080/"
        },
        "id": "RMzLNMQY0P3p",
        "outputId": "b2172650-40d9-48af-b41b-f1c262141aa7"
      },
      "outputs": [
        {
          "data": {
            "text/plain": [
              "4"
            ]
          },
          "execution_count": 14,
          "metadata": {},
          "output_type": "execute_result"
        }
      ],
      "source": [
        "len(image_summaries)"
      ]
    },
    {
      "cell_type": "code",
      "execution_count": null,
      "metadata": {
        "colab": {
          "base_uri": "https://localhost:8080/",
          "height": 87
        },
        "id": "H4__eTafTLw5",
        "outputId": "0cb962a8-4491-42b6-a752-590967af138a"
      },
      "outputs": [
        {
          "data": {
            "application/vnd.google.colaboratory.intrinsic+json": {
              "type": "string"
            },
            "text/plain": [
              "\" The table shows the number of shares purchased, the average price paid per share, and the total dollar value of shares purchased under the company's share repurchase program during the periods of October 1-31, November 1-30, and December 1-31. The total number of shares purchased during these periods was 665,000, at an average price of $2,898.56 per share, for a total dollar value of $17,371,000.\""
            ]
          },
          "execution_count": 15,
          "metadata": {},
          "output_type": "execute_result"
        }
      ],
      "source": [
        "image_summaries[0]"
      ]
    },
    {
      "cell_type": "markdown",
      "metadata": {
        "id": "z_psW04yqDEW"
      },
      "source": [
        "## Helper functions for images"
      ]
    },
    {
      "cell_type": "code",
      "execution_count": null,
      "metadata": {
        "id": "aDOCneU-p8gR"
      },
      "outputs": [],
      "source": [
        "def plt_img_base64(img_base64):\n",
        "    \"\"\"Disply base64 encoded string as image\"\"\"\n",
        "    # Create an HTML img tag with the base64 string as the source\n",
        "    image_html = f'<img src=\"data:image/jpeg;base64,{img_base64}\" />'\n",
        "    # Display the image by rendering the HTML\n",
        "    display(HTML(image_html))\n",
        "\n",
        "def looks_like_base64(sb):\n",
        "    \"\"\"Check if the string looks like base64\"\"\"\n",
        "    return re.match(\"^[A-Za-z0-9+/]+[=]{0,2}$\", sb) is not None\n",
        "\n",
        "\n",
        "def is_image_data(b64data):\n",
        "    \"\"\"\n",
        "    Check if the base64 data is an image by looking at the start of the data\n",
        "    \"\"\"\n",
        "    image_signatures = {\n",
        "        b\"\\xFF\\xD8\\xFF\": \"jpg\",\n",
        "        b\"\\x89\\x50\\x4E\\x47\\x0D\\x0A\\x1A\\x0A\": \"png\",\n",
        "        b\"\\x47\\x49\\x46\\x38\": \"gif\",\n",
        "        b\"\\x52\\x49\\x46\\x46\": \"webp\",\n",
        "    }\n",
        "    try:\n",
        "        header = base64.b64decode(b64data)[:8]  # Decode and get the first 8 bytes\n",
        "        for sig, format in image_signatures.items():\n",
        "            if header.startswith(sig):\n",
        "                return True\n",
        "        return False\n",
        "    except Exception:\n",
        "        return False\n",
        "\n",
        "\n",
        "def split_image_text_types(docs):\n",
        "    \"\"\"\n",
        "    Split base64-encoded images and texts\n",
        "    \"\"\"\n",
        "    b64_images = []\n",
        "    texts = []\n",
        "    for doc in docs:\n",
        "        # Check if the document is of type Document and extract page_content if so\n",
        "        if isinstance(doc, Document):\n",
        "            doc = doc.page_content\n",
        "        if looks_like_base64(doc) and is_image_data(doc):\n",
        "            b64_images.append(doc)\n",
        "        else:\n",
        "            texts.append(doc)\n",
        "    return {\"images\": b64_images, \"texts\": texts}"
      ]
    },
    {
      "cell_type": "markdown",
      "metadata": {
        "id": "FtofGUyTC2x0"
      },
      "source": [
        "\n",
        "## Create & Deploy MongoDB Altas Index & Endpoint\n"
      ]
    },
    {
      "cell_type": "code",
      "execution_count": null,
      "metadata": {
        "colab": {
          "base_uri": "https://localhost:8080/"
        },
        "id": "_gsqH1yhNFK0",
        "outputId": "50a1fda5-379a-48a6-da1e-74ada71f3cb4"
      },
      "outputs": [
        {
          "name": "stdout",
          "output_type": "stream",
          "text": [
            "··········\n"
          ]
        }
      ],
      "source": [
        "import getpass\n",
        "MONGO_URI = getpass.getpass()"
      ]
    },
    {
      "cell_type": "code",
      "execution_count": null,
      "metadata": {
        "id": "SGu-fVCHC6xY"
      },
      "outputs": [],
      "source": [
        "client = MongoClient(MONGO_URI)\n",
        "dbName = \"mmrag_demo\"\n",
        "collectionName = \"collection_for_mmrag\"\n",
        "index_name = \"vector_index\"\n",
        "collection = client[dbName][collectionName]"
      ]
    },
    {
      "cell_type": "code",
      "execution_count": null,
      "metadata": {
        "id": "NAv-kpM-GDTb"
      },
      "outputs": [],
      "source": [
        "embeddings=VertexAIEmbeddings(model_name=\"textembedding-gecko@003\")"
      ]
    },
    {
      "cell_type": "code",
      "execution_count": null,
      "metadata": {
        "colab": {
          "base_uri": "https://localhost:8080/"
        },
        "id": "Wmo-ucUtFoFq",
        "outputId": "5d0089b8-7ac5-4b6f-b104-e496a9c1f663"
      },
      "outputs": [
        {
          "name": "stderr",
          "output_type": "stream",
          "text": [
            "/usr/local/lib/python3.10/dist-packages/langchain_core/_api/deprecation.py:119: LangChainDeprecationWarning: The class `MongoDBAtlasVectorSearch` was deprecated in LangChain 0.0.25 and will be removed in 0.3.0. An updated version of the class exists in the langchain-mongodb package and should be used instead. To use it run `pip install -U langchain-mongodb` and import as `from langchain_mongodb import MongoDBAtlasVectorSearch`.\n",
            "  warn_deprecated(\n"
          ]
        }
      ],
      "source": [
        "vectorstore = MongoDBAtlasVectorSearch(collection,embeddings,index_name=index_name, )"
      ]
    },
    {
      "cell_type": "markdown",
      "metadata": {
        "id": "Q80K3FmXz82L"
      },
      "source": [
        "## Create retriever & load documents"
      ]
    },
    {
      "cell_type": "markdown",
      "metadata": {
        "id": "KFABDgqgz82P"
      },
      "source": [
        "- Create Multi-Vector Retriever using the vector store you created.\n",
        "- Since vector stores only contain the embedding and an ID, you'll also need to create a document store indexed by ID to get the original source documents after searching for embeddings.\n",
        "- Load data into Document Store and Vector Store"
      ]
    },
    {
      "cell_type": "code",
      "execution_count": null,
      "metadata": {
        "id": "ASDkK2WS0qaO"
      },
      "outputs": [],
      "source": [
        "def create_multi_vector_retriever(\n",
        "    vectorstore, text_summaries, texts, table_summaries, tables, image_summaries, images\n",
        "):\n",
        "    \"\"\"\n",
        "    Create retriever that indexes summaries, but returns raw images or texts\n",
        "    \"\"\"\n",
        "\n",
        "    # Initialize the storage layer\n",
        "    store = InMemoryStore()\n",
        "    id_key = \"doc_id\"\n",
        "\n",
        "    # Create the multi-vector retriever\n",
        "    retriever = MultiVectorRetriever(\n",
        "        vectorstore=vectorstore,\n",
        "        docstore=store,\n",
        "        id_key=id_key,\n",
        "    )\n",
        "\n",
        "    # Helper function to add documents to the vectorstore and docstore\n",
        "    def add_documents(retriever, doc_summaries, doc_contents):\n",
        "        doc_ids = [str(uuid.uuid4()) for _ in doc_contents]\n",
        "        summary_docs = [\n",
        "            Document(page_content=s, metadata={id_key: doc_ids[i]})\n",
        "            for i, s in enumerate(doc_summaries)\n",
        "        ]\n",
        "        retriever.vectorstore.add_documents(summary_docs)\n",
        "        retriever.docstore.mset(list(zip(doc_ids, doc_contents)))\n",
        "\n",
        "    # Add texts, tables, and images\n",
        "    # Check that text_summaries is not empty before adding\n",
        "    if text_summaries:\n",
        "        add_documents(retriever, text_summaries, texts)\n",
        "    # Check that table_summaries is not empty before adding\n",
        "    if table_summaries:\n",
        "        add_documents(retriever, table_summaries, tables)\n",
        "    # Check that image_summaries is not empty before adding\n",
        "    if image_summaries:\n",
        "        add_documents(retriever, image_summaries, images)\n",
        "\n",
        "    return retriever\n",
        "\n",
        "\n",
        "# Create retriever\n",
        "retriever_multi_vector_img = create_multi_vector_retriever(\n",
        "    vectorstore,\n",
        "    text_summaries,\n",
        "    texts,\n",
        "    table_summaries,\n",
        "    tables,\n",
        "    image_summaries,\n",
        "    img_base64_list,\n",
        ")"
      ]
    },
    {
      "cell_type": "code",
      "execution_count": null,
      "metadata": {
        "colab": {
          "base_uri": "https://localhost:8080/"
        },
        "id": "AMfbrCA70wvy",
        "outputId": "64b19f75-be07-4ad3-e99f-6e0035acb944"
      },
      "outputs": [
        {
          "data": {
            "text/plain": [
              "4"
            ]
          },
          "execution_count": 22,
          "metadata": {},
          "output_type": "execute_result"
        }
      ],
      "source": [
        "query = \"What are the critical difference between various graphs for Class A Share?\"\n",
        "docs = retriever_multi_vector_img.invoke(query, limit=1)\n",
        "\n",
        "# We get 2 docs\n",
        "len(docs)"
      ]
    },
    {
      "cell_type": "code",
      "execution_count": null,
      "metadata": {
        "colab": {
          "base_uri": "https://localhost:8080/",
          "height": 1000
        },
        "id": "79P7RKq709Da",
        "outputId": "450db43d-6357-41fc-9bd6-c0169d91896a"
      },
      "outputs": [
        {
          "data": {
            "text/html": [
              "<img src=\"data:image/jpeg;base64,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\" />"
            ],
            "text/plain": [
              "<IPython.core.display.HTML object>"
            ]
          },
          "metadata": {},
          "output_type": "display_data"
        }
      ],
      "source": [
        "plt_img_base64(docs[1])"
      ]
    },
    {
      "cell_type": "markdown",
      "metadata": {
        "id": "9XhSDvlSz82P"
      },
      "source": [
        "## Create Chain with Retriever and Gemini LLM"
      ]
    },
    {
      "cell_type": "code",
      "execution_count": null,
      "metadata": {
        "id": "wtnYQ4gHz82P"
      },
      "outputs": [],
      "source": [
        "def img_prompt_func(data_dict):\n",
        "    \"\"\"\n",
        "    Join the context into a single string\n",
        "    \"\"\"\n",
        "    formatted_texts = \"\\n\".join(data_dict[\"context\"][\"texts\"])\n",
        "    messages = [\n",
        "        {\n",
        "            \"type\": \"text\",\n",
        "            \"text\": (\n",
        "                \"You are financial analyst tasking with providing investment advice.\\n\"\n",
        "                \"You will be given a mix of text, tables, and image(s) usually of charts or graphs.\\n\"\n",
        "                \"Please use this information to provide investment advice related to the user's question. \\n\"\n",
        "                f\"User-provided question: {data_dict['question']}\\n\\n\"\n",
        "                \"Text and / or tables:\\n\"\n",
        "                f\"{formatted_texts}\"\n",
        "            ),\n",
        "        }\n",
        "    ]\n",
        "\n",
        "    # Adding image(s) to the messages if present\n",
        "    if data_dict[\"context\"][\"images\"]:\n",
        "        for image in data_dict[\"context\"][\"images\"]:\n",
        "            messages.append(\n",
        "                {\n",
        "                    \"type\": \"image_url\",\n",
        "                    \"image_url\": {\"url\": f\"data:image/jpeg;base64,{image}\"},\n",
        "                }\n",
        "            )\n",
        "    return [HumanMessage(content=messages)]\n",
        "\n",
        "\n",
        "# Create RAG chain\n",
        "chain_multimodal_rag = (\n",
        "    {\n",
        "        \"context\": retriever_multi_vector_img | RunnableLambda(split_image_text_types),\n",
        "        \"question\": RunnablePassthrough(),\n",
        "    }\n",
        "    | RunnableLambda(img_prompt_func)\n",
        "    | ChatVertexAI(\n",
        "        temperature=0, model_name=\"gemini-pro-vision\", max_output_tokens=1024\n",
        "    )  # Multi-modal LLM\n",
        "    | StrOutputParser()\n",
        ")"
      ]
    },
    {
      "cell_type": "markdown",
      "metadata": {
        "id": "VOQxAI7gz82Q"
      },
      "source": [
        "## Process user query"
      ]
    },
    {
      "cell_type": "code",
      "execution_count": null,
      "metadata": {
        "id": "R_fIWXAjRPCv"
      },
      "outputs": [],
      "source": [
        "query = \"What are the critical difference between various graphs for Class A Share?\""
      ]
    },
    {
      "cell_type": "code",
      "execution_count": null,
      "metadata": {
        "id": "nvMVuQapRO2n"
      },
      "outputs": [],
      "source": [
        "result = chain_multimodal_rag.invoke(query)"
      ]
    },
    {
      "cell_type": "code",
      "execution_count": null,
      "metadata": {
        "colab": {
          "base_uri": "https://localhost:8080/",
          "height": 244
        },
        "id": "T5nmhRE4ReLU",
        "outputId": "dff2e92a-7f6c-45a6-c861-d75c894cc632"
      },
      "outputs": [
        {
          "data": {
            "text/markdown": [
              " The graphs show the cumulative total return of Alphabet Inc. Class A common stock compared to the S&P 500, the Nasdaq Composite Index, and the RD Internet Composite Index over different time periods. The cumulative total return is the total return of an investment, including both capital appreciation and reinvested dividends, over a specified period.\n",
              "\n",
              "The first graph shows the cumulative total return of Alphabet Inc. Class A common stock from December 2017 to December 2022. The stock outperformed the S&P 500, the Nasdaq Composite Index, and the RD Internet Composite Index over this period.\n",
              "\n",
              "The second graph shows the cumulative total return of Alphabet Inc. Class A common stock from December 2016 to December 2021. The stock outperformed the S&P 500 and the Nasdaq Composite Index over this period but underperformed the RD Internet Composite Index.\n",
              "\n",
              "The third graph shows the cumulative total return of Alphabet Inc. Class A common stock from December 2015 to December 2020. The stock outperformed the S&P 500, the Nasdaq Composite Index, and the RD Internet Composite Index over this period.\n",
              "\n",
              "Overall, Alphabet Inc. Class A common stock has outperformed the S&P 500, the Nasdaq Composite Index, and the RD Internet Composite Index over the long term. However, the stock has underperformed the RD Internet Composite Index over the past year."
            ],
            "text/plain": [
              "<IPython.core.display.Markdown object>"
            ]
          },
          "execution_count": 28,
          "metadata": {},
          "output_type": "execute_result"
        }
      ],
      "source": [
        "Markdown(result)"
      ]
    },
    {
      "cell_type": "code",
      "execution_count": null,
      "metadata": {
        "id": "vV6gBwZVN1Oj"
      },
      "outputs": [],
      "source": [
        "query = \"whats the number of employees google had as of dec 2021\""
      ]
    },
    {
      "cell_type": "code",
      "execution_count": null,
      "metadata": {
        "colab": {
          "base_uri": "https://localhost:8080/",
          "height": 35
        },
        "id": "ydBB5OvIz82Q",
        "outputId": "341d79af-cbd4-47ab-e193-432a3c716852"
      },
      "outputs": [
        {
          "data": {
            "application/vnd.google.colaboratory.intrinsic+json": {
              "type": "string"
            },
            "text/plain": [
              "' Based on the information provided, Alphabet Inc. had 156,500 employees as of December 31, 2021.'"
            ]
          },
          "execution_count": 34,
          "metadata": {},
          "output_type": "execute_result"
        }
      ],
      "source": [
        "chain_multimodal_rag.invoke(query)"
      ]
    }
  ],
  "metadata": {
    "colab": {
      "collapsed_sections": [
        "R5Xep4W9lq-Z",
        "BNVIRRd0z82J",
        "BuQwwRiniVFG"
      ],
      "provenance": [],
      "toc_visible": true
    },
    "environment": {
      "kernel": "python3",
      "name": "common-cpu.m116",
      "type": "gcloud",
      "uri": "gcr.io/deeplearning-platform-release/base-cpu:m116"
    },
    "kernelspec": {
      "display_name": "Python 3 (Local)",
      "language": "python",
      "name": "python3"
    },
    "language_info": {
      "codemirror_mode": {
        "name": "ipython",
        "version": 3
      },
      "file_extension": ".py",
      "mimetype": "text/x-python",
      "name": "python",
      "nbconvert_exporter": "python",
      "pygments_lexer": "ipython3",
      "version": "3.12.2"
    },
    "widgets": {
      "application/vnd.jupyter.widget-state+json": {
        "0a6a9682a13c486e889f9b1ce8be82cd": {
          "model_module": "@jupyter-widgets/controls",
          "model_module_version": "1.5.0",
          "model_name": "DescriptionStyleModel",
          "state": {
            "_model_module": "@jupyter-widgets/controls",
            "_model_module_version": "1.5.0",
            "_model_name": "DescriptionStyleModel",
            "_view_count": null,
            "_view_module": "@jupyter-widgets/base",
            "_view_module_version": "1.2.0",
            "_view_name": "StyleView",
            "description_width": ""
          }
        },
        "0c4541a31ac84b1185c21b6485cf6948": {
          "model_module": "@jupyter-widgets/base",
          "model_module_version": "1.2.0",
          "model_name": "LayoutModel",
          "state": {
            "_model_module": "@jupyter-widgets/base",
            "_model_module_version": "1.2.0",
            "_model_name": "LayoutModel",
            "_view_count": null,
            "_view_module": "@jupyter-widgets/base",
            "_view_module_version": "1.2.0",
            "_view_name": "LayoutView",
            "align_content": null,
            "align_items": null,
            "align_self": null,
            "border": null,
            "bottom": null,
            "display": null,
            "flex": null,
            "flex_flow": null,
            "grid_area": null,
            "grid_auto_columns": null,
            "grid_auto_flow": null,
            "grid_auto_rows": null,
            "grid_column": null,
            "grid_gap": null,
            "grid_row": null,
            "grid_template_areas": null,
            "grid_template_columns": null,
            "grid_template_rows": null,
            "height": null,
            "justify_content": null,
            "justify_items": null,
            "left": null,
            "margin": null,
            "max_height": null,
            "max_width": null,
            "min_height": null,
            "min_width": null,
            "object_fit": null,
            "object_position": null,
            "order": null,
            "overflow": null,
            "overflow_x": null,
            "overflow_y": null,
            "padding": null,
            "right": null,
            "top": null,
            "visibility": null,
            "width": null
          }
        },
        "0cc8845e0e204623bdda4bce929cf74a": {
          "model_module": "@jupyter-widgets/controls",
          "model_module_version": "1.5.0",
          "model_name": "FloatProgressModel",
          "state": {
            "_dom_classes": [],
            "_model_module": "@jupyter-widgets/controls",
            "_model_module_version": "1.5.0",
            "_model_name": "FloatProgressModel",
            "_view_count": null,
            "_view_module": "@jupyter-widgets/controls",
            "_view_module_version": "1.5.0",
            "_view_name": "ProgressView",
            "bar_style": "success",
            "description": "",
            "description_tooltip": null,
            "layout": "IPY_MODEL_8a82d6c11fc84867b3b248cc8f8dbdf4",
            "max": 46807446,
            "min": 0,
            "orientation": "horizontal",
            "style": "IPY_MODEL_51cfcca535f4417c9c9f47227920190a",
            "value": 46807446
          }
        },
        "1193cef452054e4b977ba7716c64d612": {
          "model_module": "@jupyter-widgets/controls",
          "model_module_version": "1.5.0",
          "model_name": "HBoxModel",
          "state": {
            "_dom_classes": [],
            "_model_module": "@jupyter-widgets/controls",
            "_model_module_version": "1.5.0",
            "_model_name": "HBoxModel",
            "_view_count": null,
            "_view_module": "@jupyter-widgets/controls",
            "_view_module_version": "1.5.0",
            "_view_name": "HBoxView",
            "box_style": "",
            "children": [
              "IPY_MODEL_6a5a8bbb27cc4531823f5477bbeef99f",
              "IPY_MODEL_0cc8845e0e204623bdda4bce929cf74a",
              "IPY_MODEL_1880ae07b0a54432a950718063e272e7"
            ],
            "layout": "IPY_MODEL_13266f45cd1d4d54ae822465146e7919"
          }
        },
        "132367f90c0241b8894a08964104ee66": {
          "model_module": "@jupyter-widgets/controls",
          "model_module_version": "1.5.0",
          "model_name": "DescriptionStyleModel",
          "state": {
            "_model_module": "@jupyter-widgets/controls",
            "_model_module_version": "1.5.0",
            "_model_name": "DescriptionStyleModel",
            "_view_count": null,
            "_view_module": "@jupyter-widgets/base",
            "_view_module_version": "1.2.0",
            "_view_name": "StyleView",
            "description_width": ""
          }
        },
        "13266f45cd1d4d54ae822465146e7919": {
          "model_module": "@jupyter-widgets/base",
          "model_module_version": "1.2.0",
          "model_name": "LayoutModel",
          "state": {
            "_model_module": "@jupyter-widgets/base",
            "_model_module_version": "1.2.0",
            "_model_name": "LayoutModel",
            "_view_count": null,
            "_view_module": "@jupyter-widgets/base",
            "_view_module_version": "1.2.0",
            "_view_name": "LayoutView",
            "align_content": null,
            "align_items": null,
            "align_self": null,
            "border": null,
            "bottom": null,
            "display": null,
            "flex": null,
            "flex_flow": null,
            "grid_area": null,
            "grid_auto_columns": null,
            "grid_auto_flow": null,
            "grid_auto_rows": null,
            "grid_column": null,
            "grid_gap": null,
            "grid_row": null,
            "grid_template_areas": null,
            "grid_template_columns": null,
            "grid_template_rows": null,
            "height": null,
            "justify_content": null,
            "justify_items": null,
            "left": null,
            "margin": null,
            "max_height": null,
            "max_width": null,
            "min_height": null,
            "min_width": null,
            "object_fit": null,
            "object_position": null,
            "order": null,
            "overflow": null,
            "overflow_x": null,
            "overflow_y": null,
            "padding": null,
            "right": null,
            "top": null,
            "visibility": null,
            "width": null
          }
        },
        "1488fb0afb054857aed1ea6b1cb863ae": {
          "model_module": "@jupyter-widgets/base",
          "model_module_version": "1.2.0",
          "model_name": "LayoutModel",
          "state": {
            "_model_module": "@jupyter-widgets/base",
            "_model_module_version": "1.2.0",
            "_model_name": "LayoutModel",
            "_view_count": null,
            "_view_module": "@jupyter-widgets/base",
            "_view_module_version": "1.2.0",
            "_view_name": "LayoutView",
            "align_content": null,
            "align_items": null,
            "align_self": null,
            "border": null,
            "bottom": null,
            "display": null,
            "flex": null,
            "flex_flow": null,
            "grid_area": null,
            "grid_auto_columns": null,
            "grid_auto_flow": null,
            "grid_auto_rows": null,
            "grid_column": null,
            "grid_gap": null,
            "grid_row": null,
            "grid_template_areas": null,
            "grid_template_columns": null,
            "grid_template_rows": null,
            "height": null,
            "justify_content": null,
            "justify_items": null,
            "left": null,
            "margin": null,
            "max_height": null,
            "max_width": null,
            "min_height": null,
            "min_width": null,
            "object_fit": null,
            "object_position": null,
            "order": null,
            "overflow": null,
            "overflow_x": null,
            "overflow_y": null,
            "padding": null,
            "right": null,
            "top": null,
            "visibility": null,
            "width": null
          }
        },
        "16c693dc219a46f9ab8a71f5e68fad9f": {
          "model_module": "@jupyter-widgets/controls",
          "model_module_version": "1.5.0",
          "model_name": "ProgressStyleModel",
          "state": {
            "_model_module": "@jupyter-widgets/controls",
            "_model_module_version": "1.5.0",
            "_model_name": "ProgressStyleModel",
            "_view_count": null,
            "_view_module": "@jupyter-widgets/base",
            "_view_module_version": "1.2.0",
            "_view_name": "StyleView",
            "bar_color": null,
            "description_width": ""
          }
        },
        "1880ae07b0a54432a950718063e272e7": {
          "model_module": "@jupyter-widgets/controls",
          "model_module_version": "1.5.0",
          "model_name": "HTMLModel",
          "state": {
            "_dom_classes": [],
            "_model_module": "@jupyter-widgets/controls",
            "_model_module_version": "1.5.0",
            "_model_name": "HTMLModel",
            "_view_count": null,
            "_view_module": "@jupyter-widgets/controls",
            "_view_module_version": "1.5.0",
            "_view_name": "HTMLView",
            "description": "",
            "description_tooltip": null,
            "layout": "IPY_MODEL_9cad8033e8b84ec98bc2c53a6810475f",
            "placeholder": "​",
            "style": "IPY_MODEL_7b992eed24c140ab820ed05f0ff06fb4",
            "value": " 46.8M/46.8M [00:00&lt;00:00, 110MB/s]"
          }
        },
        "191456bfacca4f22829b55e09058d3b7": {
          "model_module": "@jupyter-widgets/base",
          "model_module_version": "1.2.0",
          "model_name": "LayoutModel",
          "state": {
            "_model_module": "@jupyter-widgets/base",
            "_model_module_version": "1.2.0",
            "_model_name": "LayoutModel",
            "_view_count": null,
            "_view_module": "@jupyter-widgets/base",
            "_view_module_version": "1.2.0",
            "_view_name": "LayoutView",
            "align_content": null,
            "align_items": null,
            "align_self": null,
            "border": null,
            "bottom": null,
            "display": null,
            "flex": null,
            "flex_flow": null,
            "grid_area": null,
            "grid_auto_columns": null,
            "grid_auto_flow": null,
            "grid_auto_rows": null,
            "grid_column": null,
            "grid_gap": null,
            "grid_row": null,
            "grid_template_areas": null,
            "grid_template_columns": null,
            "grid_template_rows": null,
            "height": null,
            "justify_content": null,
            "justify_items": null,
            "left": null,
            "margin": null,
            "max_height": null,
            "max_width": null,
            "min_height": null,
            "min_width": null,
            "object_fit": null,
            "object_position": null,
            "order": null,
            "overflow": null,
            "overflow_x": null,
            "overflow_y": null,
            "padding": null,
            "right": null,
            "top": null,
            "visibility": null,
            "width": null
          }
        },
        "1f2814cedaa8498fae656f2844951352": {
          "model_module": "@jupyter-widgets/base",
          "model_module_version": "1.2.0",
          "model_name": "LayoutModel",
          "state": {
            "_model_module": "@jupyter-widgets/base",
            "_model_module_version": "1.2.0",
            "_model_name": "LayoutModel",
            "_view_count": null,
            "_view_module": "@jupyter-widgets/base",
            "_view_module_version": "1.2.0",
            "_view_name": "LayoutView",
            "align_content": null,
            "align_items": null,
            "align_self": null,
            "border": null,
            "bottom": null,
            "display": null,
            "flex": null,
            "flex_flow": null,
            "grid_area": null,
            "grid_auto_columns": null,
            "grid_auto_flow": null,
            "grid_auto_rows": null,
            "grid_column": null,
            "grid_gap": null,
            "grid_row": null,
            "grid_template_areas": null,
            "grid_template_columns": null,
            "grid_template_rows": null,
            "height": null,
            "justify_content": null,
            "justify_items": null,
            "left": null,
            "margin": null,
            "max_height": null,
            "max_width": null,
            "min_height": null,
            "min_width": null,
            "object_fit": null,
            "object_position": null,
            "order": null,
            "overflow": null,
            "overflow_x": null,
            "overflow_y": null,
            "padding": null,
            "right": null,
            "top": null,
            "visibility": null,
            "width": null
          }
        },
        "3a0a838590734e35bced29ebea2a34de": {
          "model_module": "@jupyter-widgets/controls",
          "model_module_version": "1.5.0",
          "model_name": "HBoxModel",
          "state": {
            "_dom_classes": [],
            "_model_module": "@jupyter-widgets/controls",
            "_model_module_version": "1.5.0",
            "_model_name": "HBoxModel",
            "_view_count": null,
            "_view_module": "@jupyter-widgets/controls",
            "_view_module_version": "1.5.0",
            "_view_name": "HBoxView",
            "box_style": "",
            "children": [
              "IPY_MODEL_b3731293c23f4a1297182899ea0140d9",
              "IPY_MODEL_d8792ba271914778a84c8a5bf744457a",
              "IPY_MODEL_fc48da084bc64790935e42c6bac1c730"
            ],
            "layout": "IPY_MODEL_70448a0d8a2841628d53c95dd34e041e"
          }
        },
        "450c415f456b40f8b3c1d3099e5d360c": {
          "model_module": "@jupyter-widgets/controls",
          "model_module_version": "1.5.0",
          "model_name": "DescriptionStyleModel",
          "state": {
            "_model_module": "@jupyter-widgets/controls",
            "_model_module_version": "1.5.0",
            "_model_name": "DescriptionStyleModel",
            "_view_count": null,
            "_view_module": "@jupyter-widgets/base",
            "_view_module_version": "1.2.0",
            "_view_name": "StyleView",
            "description_width": ""
          }
        },
        "4faae22f9ea54be38c7c9a9dfb3033cd": {
          "model_module": "@jupyter-widgets/controls",
          "model_module_version": "1.5.0",
          "model_name": "ProgressStyleModel",
          "state": {
            "_model_module": "@jupyter-widgets/controls",
            "_model_module_version": "1.5.0",
            "_model_name": "ProgressStyleModel",
            "_view_count": null,
            "_view_module": "@jupyter-widgets/base",
            "_view_module_version": "1.2.0",
            "_view_name": "StyleView",
            "bar_color": null,
            "description_width": ""
          }
        },
        "51cfcca535f4417c9c9f47227920190a": {
          "model_module": "@jupyter-widgets/controls",
          "model_module_version": "1.5.0",
          "model_name": "ProgressStyleModel",
          "state": {
            "_model_module": "@jupyter-widgets/controls",
            "_model_module_version": "1.5.0",
            "_model_name": "ProgressStyleModel",
            "_view_count": null,
            "_view_module": "@jupyter-widgets/base",
            "_view_module_version": "1.2.0",
            "_view_name": "StyleView",
            "bar_color": null,
            "description_width": ""
          }
        },
        "5579d5df7c7648f9952b706d98525655": {
          "model_module": "@jupyter-widgets/controls",
          "model_module_version": "1.5.0",
          "model_name": "DescriptionStyleModel",
          "state": {
            "_model_module": "@jupyter-widgets/controls",
            "_model_module_version": "1.5.0",
            "_model_name": "DescriptionStyleModel",
            "_view_count": null,
            "_view_module": "@jupyter-widgets/base",
            "_view_module_version": "1.2.0",
            "_view_name": "StyleView",
            "description_width": ""
          }
        },
        "5789c29f2cf045729d87bc06f837b774": {
          "model_module": "@jupyter-widgets/controls",
          "model_module_version": "1.5.0",
          "model_name": "ProgressStyleModel",
          "state": {
            "_model_module": "@jupyter-widgets/controls",
            "_model_module_version": "1.5.0",
            "_model_name": "ProgressStyleModel",
            "_view_count": null,
            "_view_module": "@jupyter-widgets/base",
            "_view_module_version": "1.2.0",
            "_view_name": "StyleView",
            "bar_color": null,
            "description_width": ""
          }
        },
        "5f362d11d5584452844926c7eab12712": {
          "model_module": "@jupyter-widgets/controls",
          "model_module_version": "1.5.0",
          "model_name": "FloatProgressModel",
          "state": {
            "_dom_classes": [],
            "_model_module": "@jupyter-widgets/controls",
            "_model_module_version": "1.5.0",
            "_model_name": "FloatProgressModel",
            "_view_count": null,
            "_view_module": "@jupyter-widgets/controls",
            "_view_module_version": "1.5.0",
            "_view_name": "ProgressView",
            "bar_style": "success",
            "description": "",
            "description_tooltip": null,
            "layout": "IPY_MODEL_cfe6f9a953584db1b78ba7ecbd567646",
            "max": 1469,
            "min": 0,
            "orientation": "horizontal",
            "style": "IPY_MODEL_16c693dc219a46f9ab8a71f5e68fad9f",
            "value": 1469
          }
        },
        "6a5a8bbb27cc4531823f5477bbeef99f": {
          "model_module": "@jupyter-widgets/controls",
          "model_module_version": "1.5.0",
          "model_name": "HTMLModel",
          "state": {
            "_dom_classes": [],
            "_model_module": "@jupyter-widgets/controls",
            "_model_module_version": "1.5.0",
            "_model_name": "HTMLModel",
            "_view_count": null,
            "_view_module": "@jupyter-widgets/controls",
            "_view_module_version": "1.5.0",
            "_view_name": "HTMLView",
            "description": "",
            "description_tooltip": null,
            "layout": "IPY_MODEL_191456bfacca4f22829b55e09058d3b7",
            "placeholder": "​",
            "style": "IPY_MODEL_6ce53a5a28da490c885f284d6bf02484",
            "value": "model.safetensors: 100%"
          }
        },
        "6ca9b75f637244fda6f76b8708ae2e4a": {
          "model_module": "@jupyter-widgets/controls",
          "model_module_version": "1.5.0",
          "model_name": "DescriptionStyleModel",
          "state": {
            "_model_module": "@jupyter-widgets/controls",
            "_model_module_version": "1.5.0",
            "_model_name": "DescriptionStyleModel",
            "_view_count": null,
            "_view_module": "@jupyter-widgets/base",
            "_view_module_version": "1.2.0",
            "_view_name": "StyleView",
            "description_width": ""
          }
        },
        "6ce53a5a28da490c885f284d6bf02484": {
          "model_module": "@jupyter-widgets/controls",
          "model_module_version": "1.5.0",
          "model_name": "DescriptionStyleModel",
          "state": {
            "_model_module": "@jupyter-widgets/controls",
            "_model_module_version": "1.5.0",
            "_model_name": "DescriptionStyleModel",
            "_view_count": null,
            "_view_module": "@jupyter-widgets/base",
            "_view_module_version": "1.2.0",
            "_view_name": "StyleView",
            "description_width": ""
          }
        },
        "70448a0d8a2841628d53c95dd34e041e": {
          "model_module": "@jupyter-widgets/base",
          "model_module_version": "1.2.0",
          "model_name": "LayoutModel",
          "state": {
            "_model_module": "@jupyter-widgets/base",
            "_model_module_version": "1.2.0",
            "_model_name": "LayoutModel",
            "_view_count": null,
            "_view_module": "@jupyter-widgets/base",
            "_view_module_version": "1.2.0",
            "_view_name": "LayoutView",
            "align_content": null,
            "align_items": null,
            "align_self": null,
            "border": null,
            "bottom": null,
            "display": null,
            "flex": null,
            "flex_flow": null,
            "grid_area": null,
            "grid_auto_columns": null,
            "grid_auto_flow": null,
            "grid_auto_rows": null,
            "grid_column": null,
            "grid_gap": null,
            "grid_row": null,
            "grid_template_areas": null,
            "grid_template_columns": null,
            "grid_template_rows": null,
            "height": null,
            "justify_content": null,
            "justify_items": null,
            "left": null,
            "margin": null,
            "max_height": null,
            "max_width": null,
            "min_height": null,
            "min_width": null,
            "object_fit": null,
            "object_position": null,
            "order": null,
            "overflow": null,
            "overflow_x": null,
            "overflow_y": null,
            "padding": null,
            "right": null,
            "top": null,
            "visibility": null,
            "width": null
          }
        },
        "7523a334eb78407b98a04b9046ada316": {
          "model_module": "@jupyter-widgets/base",
          "model_module_version": "1.2.0",
          "model_name": "LayoutModel",
          "state": {
            "_model_module": "@jupyter-widgets/base",
            "_model_module_version": "1.2.0",
            "_model_name": "LayoutModel",
            "_view_count": null,
            "_view_module": "@jupyter-widgets/base",
            "_view_module_version": "1.2.0",
            "_view_name": "LayoutView",
            "align_content": null,
            "align_items": null,
            "align_self": null,
            "border": null,
            "bottom": null,
            "display": null,
            "flex": null,
            "flex_flow": null,
            "grid_area": null,
            "grid_auto_columns": null,
            "grid_auto_flow": null,
            "grid_auto_rows": null,
            "grid_column": null,
            "grid_gap": null,
            "grid_row": null,
            "grid_template_areas": null,
            "grid_template_columns": null,
            "grid_template_rows": null,
            "height": null,
            "justify_content": null,
            "justify_items": null,
            "left": null,
            "margin": null,
            "max_height": null,
            "max_width": null,
            "min_height": null,
            "min_width": null,
            "object_fit": null,
            "object_position": null,
            "order": null,
            "overflow": null,
            "overflow_x": null,
            "overflow_y": null,
            "padding": null,
            "right": null,
            "top": null,
            "visibility": null,
            "width": null
          }
        },
        "77a8f10496f24a0d93e49b74c41c2362": {
          "model_module": "@jupyter-widgets/base",
          "model_module_version": "1.2.0",
          "model_name": "LayoutModel",
          "state": {
            "_model_module": "@jupyter-widgets/base",
            "_model_module_version": "1.2.0",
            "_model_name": "LayoutModel",
            "_view_count": null,
            "_view_module": "@jupyter-widgets/base",
            "_view_module_version": "1.2.0",
            "_view_name": "LayoutView",
            "align_content": null,
            "align_items": null,
            "align_self": null,
            "border": null,
            "bottom": null,
            "display": null,
            "flex": null,
            "flex_flow": null,
            "grid_area": null,
            "grid_auto_columns": null,
            "grid_auto_flow": null,
            "grid_auto_rows": null,
            "grid_column": null,
            "grid_gap": null,
            "grid_row": null,
            "grid_template_areas": null,
            "grid_template_columns": null,
            "grid_template_rows": null,
            "height": null,
            "justify_content": null,
            "justify_items": null,
            "left": null,
            "margin": null,
            "max_height": null,
            "max_width": null,
            "min_height": null,
            "min_width": null,
            "object_fit": null,
            "object_position": null,
            "order": null,
            "overflow": null,
            "overflow_x": null,
            "overflow_y": null,
            "padding": null,
            "right": null,
            "top": null,
            "visibility": null,
            "width": null
          }
        },
        "7b992eed24c140ab820ed05f0ff06fb4": {
          "model_module": "@jupyter-widgets/controls",
          "model_module_version": "1.5.0",
          "model_name": "DescriptionStyleModel",
          "state": {
            "_model_module": "@jupyter-widgets/controls",
            "_model_module_version": "1.5.0",
            "_model_name": "DescriptionStyleModel",
            "_view_count": null,
            "_view_module": "@jupyter-widgets/base",
            "_view_module_version": "1.2.0",
            "_view_name": "StyleView",
            "description_width": ""
          }
        },
        "8a82d6c11fc84867b3b248cc8f8dbdf4": {
          "model_module": "@jupyter-widgets/base",
          "model_module_version": "1.2.0",
          "model_name": "LayoutModel",
          "state": {
            "_model_module": "@jupyter-widgets/base",
            "_model_module_version": "1.2.0",
            "_model_name": "LayoutModel",
            "_view_count": null,
            "_view_module": "@jupyter-widgets/base",
            "_view_module_version": "1.2.0",
            "_view_name": "LayoutView",
            "align_content": null,
            "align_items": null,
            "align_self": null,
            "border": null,
            "bottom": null,
            "display": null,
            "flex": null,
            "flex_flow": null,
            "grid_area": null,
            "grid_auto_columns": null,
            "grid_auto_flow": null,
            "grid_auto_rows": null,
            "grid_column": null,
            "grid_gap": null,
            "grid_row": null,
            "grid_template_areas": null,
            "grid_template_columns": null,
            "grid_template_rows": null,
            "height": null,
            "justify_content": null,
            "justify_items": null,
            "left": null,
            "margin": null,
            "max_height": null,
            "max_width": null,
            "min_height": null,
            "min_width": null,
            "object_fit": null,
            "object_position": null,
            "order": null,
            "overflow": null,
            "overflow_x": null,
            "overflow_y": null,
            "padding": null,
            "right": null,
            "top": null,
            "visibility": null,
            "width": null
          }
        },
        "8c49aa0df66a45a8ac5d42bd49ec6217": {
          "model_module": "@jupyter-widgets/base",
          "model_module_version": "1.2.0",
          "model_name": "LayoutModel",
          "state": {
            "_model_module": "@jupyter-widgets/base",
            "_model_module_version": "1.2.0",
            "_model_name": "LayoutModel",
            "_view_count": null,
            "_view_module": "@jupyter-widgets/base",
            "_view_module_version": "1.2.0",
            "_view_name": "LayoutView",
            "align_content": null,
            "align_items": null,
            "align_self": null,
            "border": null,
            "bottom": null,
            "display": null,
            "flex": null,
            "flex_flow": null,
            "grid_area": null,
            "grid_auto_columns": null,
            "grid_auto_flow": null,
            "grid_auto_rows": null,
            "grid_column": null,
            "grid_gap": null,
            "grid_row": null,
            "grid_template_areas": null,
            "grid_template_columns": null,
            "grid_template_rows": null,
            "height": null,
            "justify_content": null,
            "justify_items": null,
            "left": null,
            "margin": null,
            "max_height": null,
            "max_width": null,
            "min_height": null,
            "min_width": null,
            "object_fit": null,
            "object_position": null,
            "order": null,
            "overflow": null,
            "overflow_x": null,
            "overflow_y": null,
            "padding": null,
            "right": null,
            "top": null,
            "visibility": null,
            "width": null
          }
        },
        "9cad8033e8b84ec98bc2c53a6810475f": {
          "model_module": "@jupyter-widgets/base",
          "model_module_version": "1.2.0",
          "model_name": "LayoutModel",
          "state": {
            "_model_module": "@jupyter-widgets/base",
            "_model_module_version": "1.2.0",
            "_model_name": "LayoutModel",
            "_view_count": null,
            "_view_module": "@jupyter-widgets/base",
            "_view_module_version": "1.2.0",
            "_view_name": "LayoutView",
            "align_content": null,
            "align_items": null,
            "align_self": null,
            "border": null,
            "bottom": null,
            "display": null,
            "flex": null,
            "flex_flow": null,
            "grid_area": null,
            "grid_auto_columns": null,
            "grid_auto_flow": null,
            "grid_auto_rows": null,
            "grid_column": null,
            "grid_gap": null,
            "grid_row": null,
            "grid_template_areas": null,
            "grid_template_columns": null,
            "grid_template_rows": null,
            "height": null,
            "justify_content": null,
            "justify_items": null,
            "left": null,
            "margin": null,
            "max_height": null,
            "max_width": null,
            "min_height": null,
            "min_width": null,
            "object_fit": null,
            "object_position": null,
            "order": null,
            "overflow": null,
            "overflow_x": null,
            "overflow_y": null,
            "padding": null,
            "right": null,
            "top": null,
            "visibility": null,
            "width": null
          }
        },
        "ac926e7672684000b86524410197c31f": {
          "model_module": "@jupyter-widgets/base",
          "model_module_version": "1.2.0",
          "model_name": "LayoutModel",
          "state": {
            "_model_module": "@jupyter-widgets/base",
            "_model_module_version": "1.2.0",
            "_model_name": "LayoutModel",
            "_view_count": null,
            "_view_module": "@jupyter-widgets/base",
            "_view_module_version": "1.2.0",
            "_view_name": "LayoutView",
            "align_content": null,
            "align_items": null,
            "align_self": null,
            "border": null,
            "bottom": null,
            "display": null,
            "flex": null,
            "flex_flow": null,
            "grid_area": null,
            "grid_auto_columns": null,
            "grid_auto_flow": null,
            "grid_auto_rows": null,
            "grid_column": null,
            "grid_gap": null,
            "grid_row": null,
            "grid_template_areas": null,
            "grid_template_columns": null,
            "grid_template_rows": null,
            "height": null,
            "justify_content": null,
            "justify_items": null,
            "left": null,
            "margin": null,
            "max_height": null,
            "max_width": null,
            "min_height": null,
            "min_width": null,
            "object_fit": null,
            "object_position": null,
            "order": null,
            "overflow": null,
            "overflow_x": null,
            "overflow_y": null,
            "padding": null,
            "right": null,
            "top": null,
            "visibility": null,
            "width": null
          }
        },
        "af8bb46f65fc4d109fe371f7a6c6026a": {
          "model_module": "@jupyter-widgets/controls",
          "model_module_version": "1.5.0",
          "model_name": "FloatProgressModel",
          "state": {
            "_dom_classes": [],
            "_model_module": "@jupyter-widgets/controls",
            "_model_module_version": "1.5.0",
            "_model_name": "FloatProgressModel",
            "_view_count": null,
            "_view_module": "@jupyter-widgets/controls",
            "_view_module_version": "1.5.0",
            "_view_name": "ProgressView",
            "bar_style": "success",
            "description": "",
            "description_tooltip": null,
            "layout": "IPY_MODEL_1488fb0afb054857aed1ea6b1cb863ae",
            "max": 115434268,
            "min": 0,
            "orientation": "horizontal",
            "style": "IPY_MODEL_4faae22f9ea54be38c7c9a9dfb3033cd",
            "value": 115434268
          }
        },
        "b3731293c23f4a1297182899ea0140d9": {
          "model_module": "@jupyter-widgets/controls",
          "model_module_version": "1.5.0",
          "model_name": "HTMLModel",
          "state": {
            "_dom_classes": [],
            "_model_module": "@jupyter-widgets/controls",
            "_model_module_version": "1.5.0",
            "_model_name": "HTMLModel",
            "_view_count": null,
            "_view_module": "@jupyter-widgets/controls",
            "_view_module_version": "1.5.0",
            "_view_name": "HTMLView",
            "description": "",
            "description_tooltip": null,
            "layout": "IPY_MODEL_eb9c79a73cb74684b624aef59c8282ba",
            "placeholder": "​",
            "style": "IPY_MODEL_450c415f456b40f8b3c1d3099e5d360c",
            "value": "yolox_l0.05.onnx: 100%"
          }
        },
        "b8082a5d5d6e4346935e3c9e7ee69dea": {
          "model_module": "@jupyter-widgets/controls",
          "model_module_version": "1.5.0",
          "model_name": "DescriptionStyleModel",
          "state": {
            "_model_module": "@jupyter-widgets/controls",
            "_model_module_version": "1.5.0",
            "_model_name": "DescriptionStyleModel",
            "_view_count": null,
            "_view_module": "@jupyter-widgets/base",
            "_view_module_version": "1.2.0",
            "_view_name": "StyleView",
            "description_width": ""
          }
        },
        "bdd83c7734ba42a2b90565454f14e82d": {
          "model_module": "@jupyter-widgets/controls",
          "model_module_version": "1.5.0",
          "model_name": "HTMLModel",
          "state": {
            "_dom_classes": [],
            "_model_module": "@jupyter-widgets/controls",
            "_model_module_version": "1.5.0",
            "_model_name": "HTMLModel",
            "_view_count": null,
            "_view_module": "@jupyter-widgets/controls",
            "_view_module_version": "1.5.0",
            "_view_name": "HTMLView",
            "description": "",
            "description_tooltip": null,
            "layout": "IPY_MODEL_ac926e7672684000b86524410197c31f",
            "placeholder": "​",
            "style": "IPY_MODEL_5579d5df7c7648f9952b706d98525655",
            "value": " 1.47k/1.47k [00:00&lt;00:00, 37.9kB/s]"
          }
        },
        "c561180d5c8a4f9684582ce6eb0d100a": {
          "model_module": "@jupyter-widgets/controls",
          "model_module_version": "1.5.0",
          "model_name": "HBoxModel",
          "state": {
            "_dom_classes": [],
            "_model_module": "@jupyter-widgets/controls",
            "_model_module_version": "1.5.0",
            "_model_name": "HBoxModel",
            "_view_count": null,
            "_view_module": "@jupyter-widgets/controls",
            "_view_module_version": "1.5.0",
            "_view_name": "HBoxView",
            "box_style": "",
            "children": [
              "IPY_MODEL_f54cba4f8fad4f559bd15a0c1b3f1707",
              "IPY_MODEL_af8bb46f65fc4d109fe371f7a6c6026a",
              "IPY_MODEL_e4e304bc46e34d3188a0cf406a953451"
            ],
            "layout": "IPY_MODEL_e42b22ba08a647678751c1652008804c"
          }
        },
        "c58f654feba94236a21d46923fb21152": {
          "model_module": "@jupyter-widgets/controls",
          "model_module_version": "1.5.0",
          "model_name": "HTMLModel",
          "state": {
            "_dom_classes": [],
            "_model_module": "@jupyter-widgets/controls",
            "_model_module_version": "1.5.0",
            "_model_name": "HTMLModel",
            "_view_count": null,
            "_view_module": "@jupyter-widgets/controls",
            "_view_module_version": "1.5.0",
            "_view_name": "HTMLView",
            "description": "",
            "description_tooltip": null,
            "layout": "IPY_MODEL_0c4541a31ac84b1185c21b6485cf6948",
            "placeholder": "​",
            "style": "IPY_MODEL_0a6a9682a13c486e889f9b1ce8be82cd",
            "value": "config.json: 100%"
          }
        },
        "c912a4e477144d34bfa2ff40acbeb0d7": {
          "model_module": "@jupyter-widgets/base",
          "model_module_version": "1.2.0",
          "model_name": "LayoutModel",
          "state": {
            "_model_module": "@jupyter-widgets/base",
            "_model_module_version": "1.2.0",
            "_model_name": "LayoutModel",
            "_view_count": null,
            "_view_module": "@jupyter-widgets/base",
            "_view_module_version": "1.2.0",
            "_view_name": "LayoutView",
            "align_content": null,
            "align_items": null,
            "align_self": null,
            "border": null,
            "bottom": null,
            "display": null,
            "flex": null,
            "flex_flow": null,
            "grid_area": null,
            "grid_auto_columns": null,
            "grid_auto_flow": null,
            "grid_auto_rows": null,
            "grid_column": null,
            "grid_gap": null,
            "grid_row": null,
            "grid_template_areas": null,
            "grid_template_columns": null,
            "grid_template_rows": null,
            "height": null,
            "justify_content": null,
            "justify_items": null,
            "left": null,
            "margin": null,
            "max_height": null,
            "max_width": null,
            "min_height": null,
            "min_width": null,
            "object_fit": null,
            "object_position": null,
            "order": null,
            "overflow": null,
            "overflow_x": null,
            "overflow_y": null,
            "padding": null,
            "right": null,
            "top": null,
            "visibility": null,
            "width": null
          }
        },
        "cfe6f9a953584db1b78ba7ecbd567646": {
          "model_module": "@jupyter-widgets/base",
          "model_module_version": "1.2.0",
          "model_name": "LayoutModel",
          "state": {
            "_model_module": "@jupyter-widgets/base",
            "_model_module_version": "1.2.0",
            "_model_name": "LayoutModel",
            "_view_count": null,
            "_view_module": "@jupyter-widgets/base",
            "_view_module_version": "1.2.0",
            "_view_name": "LayoutView",
            "align_content": null,
            "align_items": null,
            "align_self": null,
            "border": null,
            "bottom": null,
            "display": null,
            "flex": null,
            "flex_flow": null,
            "grid_area": null,
            "grid_auto_columns": null,
            "grid_auto_flow": null,
            "grid_auto_rows": null,
            "grid_column": null,
            "grid_gap": null,
            "grid_row": null,
            "grid_template_areas": null,
            "grid_template_columns": null,
            "grid_template_rows": null,
            "height": null,
            "justify_content": null,
            "justify_items": null,
            "left": null,
            "margin": null,
            "max_height": null,
            "max_width": null,
            "min_height": null,
            "min_width": null,
            "object_fit": null,
            "object_position": null,
            "order": null,
            "overflow": null,
            "overflow_x": null,
            "overflow_y": null,
            "padding": null,
            "right": null,
            "top": null,
            "visibility": null,
            "width": null
          }
        },
        "d8792ba271914778a84c8a5bf744457a": {
          "model_module": "@jupyter-widgets/controls",
          "model_module_version": "1.5.0",
          "model_name": "FloatProgressModel",
          "state": {
            "_dom_classes": [],
            "_model_module": "@jupyter-widgets/controls",
            "_model_module_version": "1.5.0",
            "_model_name": "FloatProgressModel",
            "_view_count": null,
            "_view_module": "@jupyter-widgets/controls",
            "_view_module_version": "1.5.0",
            "_view_name": "ProgressView",
            "bar_style": "success",
            "description": "",
            "description_tooltip": null,
            "layout": "IPY_MODEL_77a8f10496f24a0d93e49b74c41c2362",
            "max": 216625723,
            "min": 0,
            "orientation": "horizontal",
            "style": "IPY_MODEL_5789c29f2cf045729d87bc06f837b774",
            "value": 216625723
          }
        },
        "db71954c02cf4515a32e6b7b7cda3c6a": {
          "model_module": "@jupyter-widgets/controls",
          "model_module_version": "1.5.0",
          "model_name": "HBoxModel",
          "state": {
            "_dom_classes": [],
            "_model_module": "@jupyter-widgets/controls",
            "_model_module_version": "1.5.0",
            "_model_name": "HBoxModel",
            "_view_count": null,
            "_view_module": "@jupyter-widgets/controls",
            "_view_module_version": "1.5.0",
            "_view_name": "HBoxView",
            "box_style": "",
            "children": [
              "IPY_MODEL_c58f654feba94236a21d46923fb21152",
              "IPY_MODEL_5f362d11d5584452844926c7eab12712",
              "IPY_MODEL_bdd83c7734ba42a2b90565454f14e82d"
            ],
            "layout": "IPY_MODEL_c912a4e477144d34bfa2ff40acbeb0d7"
          }
        },
        "e42b22ba08a647678751c1652008804c": {
          "model_module": "@jupyter-widgets/base",
          "model_module_version": "1.2.0",
          "model_name": "LayoutModel",
          "state": {
            "_model_module": "@jupyter-widgets/base",
            "_model_module_version": "1.2.0",
            "_model_name": "LayoutModel",
            "_view_count": null,
            "_view_module": "@jupyter-widgets/base",
            "_view_module_version": "1.2.0",
            "_view_name": "LayoutView",
            "align_content": null,
            "align_items": null,
            "align_self": null,
            "border": null,
            "bottom": null,
            "display": null,
            "flex": null,
            "flex_flow": null,
            "grid_area": null,
            "grid_auto_columns": null,
            "grid_auto_flow": null,
            "grid_auto_rows": null,
            "grid_column": null,
            "grid_gap": null,
            "grid_row": null,
            "grid_template_areas": null,
            "grid_template_columns": null,
            "grid_template_rows": null,
            "height": null,
            "justify_content": null,
            "justify_items": null,
            "left": null,
            "margin": null,
            "max_height": null,
            "max_width": null,
            "min_height": null,
            "min_width": null,
            "object_fit": null,
            "object_position": null,
            "order": null,
            "overflow": null,
            "overflow_x": null,
            "overflow_y": null,
            "padding": null,
            "right": null,
            "top": null,
            "visibility": null,
            "width": null
          }
        },
        "e4e304bc46e34d3188a0cf406a953451": {
          "model_module": "@jupyter-widgets/controls",
          "model_module_version": "1.5.0",
          "model_name": "HTMLModel",
          "state": {
            "_dom_classes": [],
            "_model_module": "@jupyter-widgets/controls",
            "_model_module_version": "1.5.0",
            "_model_name": "HTMLModel",
            "_view_count": null,
            "_view_module": "@jupyter-widgets/controls",
            "_view_module_version": "1.5.0",
            "_view_name": "HTMLView",
            "description": "",
            "description_tooltip": null,
            "layout": "IPY_MODEL_8c49aa0df66a45a8ac5d42bd49ec6217",
            "placeholder": "​",
            "style": "IPY_MODEL_6ca9b75f637244fda6f76b8708ae2e4a",
            "value": " 115M/115M [00:01&lt;00:00, 109MB/s]"
          }
        },
        "eb9c79a73cb74684b624aef59c8282ba": {
          "model_module": "@jupyter-widgets/base",
          "model_module_version": "1.2.0",
          "model_name": "LayoutModel",
          "state": {
            "_model_module": "@jupyter-widgets/base",
            "_model_module_version": "1.2.0",
            "_model_name": "LayoutModel",
            "_view_count": null,
            "_view_module": "@jupyter-widgets/base",
            "_view_module_version": "1.2.0",
            "_view_name": "LayoutView",
            "align_content": null,
            "align_items": null,
            "align_self": null,
            "border": null,
            "bottom": null,
            "display": null,
            "flex": null,
            "flex_flow": null,
            "grid_area": null,
            "grid_auto_columns": null,
            "grid_auto_flow": null,
            "grid_auto_rows": null,
            "grid_column": null,
            "grid_gap": null,
            "grid_row": null,
            "grid_template_areas": null,
            "grid_template_columns": null,
            "grid_template_rows": null,
            "height": null,
            "justify_content": null,
            "justify_items": null,
            "left": null,
            "margin": null,
            "max_height": null,
            "max_width": null,
            "min_height": null,
            "min_width": null,
            "object_fit": null,
            "object_position": null,
            "order": null,
            "overflow": null,
            "overflow_x": null,
            "overflow_y": null,
            "padding": null,
            "right": null,
            "top": null,
            "visibility": null,
            "width": null
          }
        },
        "f54cba4f8fad4f559bd15a0c1b3f1707": {
          "model_module": "@jupyter-widgets/controls",
          "model_module_version": "1.5.0",
          "model_name": "HTMLModel",
          "state": {
            "_dom_classes": [],
            "_model_module": "@jupyter-widgets/controls",
            "_model_module_version": "1.5.0",
            "_model_name": "HTMLModel",
            "_view_count": null,
            "_view_module": "@jupyter-widgets/controls",
            "_view_module_version": "1.5.0",
            "_view_name": "HTMLView",
            "description": "",
            "description_tooltip": null,
            "layout": "IPY_MODEL_7523a334eb78407b98a04b9046ada316",
            "placeholder": "​",
            "style": "IPY_MODEL_b8082a5d5d6e4346935e3c9e7ee69dea",
            "value": "model.safetensors: 100%"
          }
        },
        "fc48da084bc64790935e42c6bac1c730": {
          "model_module": "@jupyter-widgets/controls",
          "model_module_version": "1.5.0",
          "model_name": "HTMLModel",
          "state": {
            "_dom_classes": [],
            "_model_module": "@jupyter-widgets/controls",
            "_model_module_version": "1.5.0",
            "_model_name": "HTMLModel",
            "_view_count": null,
            "_view_module": "@jupyter-widgets/controls",
            "_view_module_version": "1.5.0",
            "_view_name": "HTMLView",
            "description": "",
            "description_tooltip": null,
            "layout": "IPY_MODEL_1f2814cedaa8498fae656f2844951352",
            "placeholder": "​",
            "style": "IPY_MODEL_132367f90c0241b8894a08964104ee66",
            "value": " 217M/217M [00:02&lt;00:00, 109MB/s]"
          }
        }
      }
    }
  },
  "nbformat": 4,
  "nbformat_minor": 0
}
